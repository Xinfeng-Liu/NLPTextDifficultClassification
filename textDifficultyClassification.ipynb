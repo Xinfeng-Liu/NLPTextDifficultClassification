{
 "cells": [
  {
   "cell_type": "markdown",
   "metadata": {},
   "source": [
    "# Content\n",
    "## 1. Load Data\n",
    "## 2. Data Processing\n",
    "## 3. Model Building\n",
    "## 4. Feature Analysis\n",
    "## 5. Best Model Accuracy on Test Set\n",
    "## 6. Sensitivity Analysis\n",
    "## 7. Prediction\n",
    "## 8. Failure Analy"
   ]
  },
  {
   "cell_type": "markdown",
   "metadata": {
    "id": "UjmoZAEK_oAG"
   },
   "source": [
    "# **1. Load Data**"
   ]
  },
  {
   "cell_type": "code",
   "execution_count": 1,
   "metadata": {
    "colab": {
     "base_uri": "https://localhost:8080/"
    },
    "id": "9rON2kh_pJkj",
    "outputId": "d9ca3a7b-b47c-4f38-8f26-ae45f04feb3f"
   },
   "outputs": [
    {
     "name": "stderr",
     "output_type": "stream",
     "text": [
      "[nltk_data] Downloading package punkt to\n",
      "[nltk_data]     /Users/xinfengliu/nltk_data...\n",
      "[nltk_data]   Package punkt is already up-to-date!\n"
     ]
    }
   ],
   "source": [
    "import pandas as pd\n",
    "import numpy as np\n",
    "import regex as re\n",
    "import statistics\n",
    "from collections import Counter\n",
    "from sklearn import model_selection, preprocessing, linear_model, naive_bayes, metrics, svm\n",
    "from sklearn.model_selection import cross_val_score\n",
    "from sklearn.feature_extraction.text import TfidfVectorizer, CountVectorizer\n",
    "from sklearn import decomposition, ensemble\n",
    "from sklearn.model_selection import GridSearchCV, KFold\n",
    "from sklearn.metrics import PrecisionRecallDisplay, precision_recall_curve\n",
    "from collections import defaultdict\n",
    "import textblob\n",
    "import string\n",
    "import nltk\n",
    "from tqdm import tqdm\n",
    "import matplotlib.pyplot as plt\n",
    "import seaborn as sns\n",
    "from nltk.tokenize import sent_tokenize, word_tokenize\n",
    "nltk.download('punkt')\n",
    "from keras.preprocessing.text import Tokenizer"
   ]
  },
  {
   "cell_type": "code",
   "execution_count": 2,
   "metadata": {
    "id": "e1Z1tlnh-ggJ"
   },
   "outputs": [],
   "source": [
    "# load data\n",
    "df = pd.read_csv('WikiLarge_Train.csv')\n",
    "X_pred = pd.read_csv('WikiLarge_Test.csv')"
   ]
  },
  {
   "cell_type": "code",
   "execution_count": 3,
   "metadata": {
    "colab": {
     "base_uri": "https://localhost:8080/",
     "height": 280
    },
    "id": "apUewXR6Slh9",
    "outputId": "0ee6aad0-703b-4278-d23d-c611a0f0f898"
   },
   "outputs": [
    {
     "data": {
      "text/plain": [
       "<AxesSubplot:>"
      ]
     },
     "execution_count": 3,
     "metadata": {},
     "output_type": "execute_result"
    },
    {
     "data": {
      "image/png": "[encoded data removed]",
      "text/plain": [
       "<Figure size 432x288 with 1 Axes>"
      ]
     },
     "metadata": {
      "needs_background": "light"
     },
     "output_type": "display_data"
    }
   ],
   "source": [
    "# check dataset balance\n",
    "df['label'].value_counts().plot(kind='bar')"
   ]
  },
  {
   "cell_type": "markdown",
   "metadata": {
    "id": "KRlJRQ0O_6yK"
   },
   "source": [
    "# **2. Data Processing**"
   ]
  },
  {
   "cell_type": "markdown",
   "metadata": {
    "id": "2LNhJILHB505"
   },
   "source": [
    "## 2.1 Change data to lower case"
   ]
  },
  {
   "cell_type": "code",
   "execution_count": 4,
   "metadata": {},
   "outputs": [],
   "source": [
    "data = [df, X_pred]\n",
    "for data_set in data:\n",
    "    data_set['modified_txt'] = data_set['original_text']\n",
    "    data_set['modified_txt'] = data_set['modified_txt'].str.lower()\n",
    "    data_set['original_text'] = data_set['original_text'].str.lower()"
   ]
  },
  {
   "cell_type": "markdown",
   "metadata": {
    "id": "tcpRrY-oCZ7b"
   },
   "source": [
    "## 2.2 Delete Punctuation"
   ]
  },
  {
   "cell_type": "code",
   "execution_count": 5,
   "metadata": {},
   "outputs": [
    {
     "name": "stderr",
     "output_type": "stream",
     "text": [
      "/var/folders/8_/j14vrxnx2cz8yhy96kx5x_3h0000gn/T/ipykernel_14426/1386160760.py:2: FutureWarning: The default value of regex will change from True to False in a future version.\n",
      "  data_set['modified_txt'] = data_set['modified_txt'].str.replace(r'[^\\w\\s]+', '')\n",
      "/var/folders/8_/j14vrxnx2cz8yhy96kx5x_3h0000gn/T/ipykernel_14426/1386160760.py:3: FutureWarning: The default value of regex will change from True to False in a future version.\n",
      "  data_set['original_text'] = data_set['original_text'].str.replace(r'[^\\w\\s]+', '')\n"
     ]
    }
   ],
   "source": [
    "for data_set in data:\n",
    "    data_set['modified_txt'] = data_set['modified_txt'].str.replace(r'[^\\w\\s]+', '')\n",
    "    data_set['original_text'] = data_set['original_text'].str.replace(r'[^\\w\\s]+', '')"
   ]
  },
  {
   "cell_type": "markdown",
   "metadata": {
    "id": "QTDvQkW0MPfZ"
   },
   "source": [
    "## 2.3 Remove Stop Words"
   ]
  },
  {
   "cell_type": "code",
   "execution_count": 6,
   "metadata": {},
   "outputs": [
    {
     "name": "stderr",
     "output_type": "stream",
     "text": [
      "[nltk_data] Downloading package stopwords to\n",
      "[nltk_data]     /Users/xinfengliu/nltk_data...\n",
      "[nltk_data]   Package stopwords is already up-to-date!\n"
     ]
    }
   ],
   "source": [
    "from nltk.corpus import stopwords\n",
    "nltk.download('stopwords')\n",
    "stop = stopwords.words('english')\n",
    "\n",
    "for data_set in data:\n",
    "    data_set['modified_txt'] = data_set['modified_txt'].apply(lambda x: ' '.join([word for word in x.split() if not word in stop]))\n",
    "    \n",
    "    "
   ]
  },
  {
   "cell_type": "markdown",
   "metadata": {
    "id": "YkykSRmEQqy6"
   },
   "source": [
    "## 2.4 Create Text/NLP Based Features"
   ]
  },
  {
   "cell_type": "markdown",
   "metadata": {
    "id": "cYBTzhw0TZ8A"
   },
   "source": [
    "2.4.1 Char/Word Count"
   ]
  },
  {
   "cell_type": "markdown",
   "metadata": {
    "id": "HDNzuNJYTY-J"
   },
   "source": []
  },
  {
   "cell_type": "code",
   "execution_count": 7,
   "metadata": {},
   "outputs": [],
   "source": [
    "for data_set in data:\n",
    "    data_set['char_count'] = data_set['original_text'].apply(len)\n",
    "    data_set['word_count'] = data_set['original_text'].apply(len)\n",
    "    data_set['word_density'] = data_set['char_count'] / (data_set['word_count']+1)"
   ]
  },
  {
   "cell_type": "markdown",
   "metadata": {
    "id": "70FzAzhXs1s7"
   },
   "source": [
    "#### Word Count Plot"
   ]
  },
  {
   "cell_type": "code",
   "execution_count": 8,
   "metadata": {},
   "outputs": [
    {
     "name": "stderr",
     "output_type": "stream",
     "text": [
      "/opt/anaconda3/envs/tf2/lib/python3.9/site-packages/seaborn/distributions.py:2619: FutureWarning: `distplot` is a deprecated function and will be removed in a future version. Please adapt your code to use either `displot` (a figure-level function with similar flexibility) or `histplot` (an axes-level function for histograms).\n",
      "  warnings.warn(msg, FutureWarning)\n",
      "/opt/anaconda3/envs/tf2/lib/python3.9/site-packages/seaborn/distributions.py:2619: FutureWarning: `distplot` is a deprecated function and will be removed in a future version. Please adapt your code to use either `displot` (a figure-level function with similar flexibility) or `kdeplot` (an axes-level function for kernel density plots).\n",
      "  warnings.warn(msg, FutureWarning)\n",
      "/opt/anaconda3/envs/tf2/lib/python3.9/site-packages/seaborn/distributions.py:2619: FutureWarning: `distplot` is a deprecated function and will be removed in a future version. Please adapt your code to use either `displot` (a figure-level function with similar flexibility) or `histplot` (an axes-level function for histograms).\n",
      "  warnings.warn(msg, FutureWarning)\n",
      "/opt/anaconda3/envs/tf2/lib/python3.9/site-packages/seaborn/distributions.py:2619: FutureWarning: `distplot` is a deprecated function and will be removed in a future version. Please adapt your code to use either `displot` (a figure-level function with similar flexibility) or `kdeplot` (an axes-level function for kernel density plots).\n",
      "  warnings.warn(msg, FutureWarning)\n"
     ]
    },
    {
     "data": {
      "image/png": "[encoded data removed]",
      "text/plain": [
       "<Figure size 432x288 with 2 Axes>"
      ]
     },
     "metadata": {
      "needs_background": "light"
     },
     "output_type": "display_data"
    }
   ],
   "source": [
    "x, y = \"word_count\", \"label\"\n",
    "fig, ax = plt.subplots(nrows=1, ncols=2)\n",
    "fig.suptitle(x, fontsize=12)\n",
    "for i in df[y].unique():\n",
    "    sns.distplot(df[df[y]==i][x], hist=True, kde=False, \n",
    "                 bins=10, hist_kws={\"alpha\":0.8}, \n",
    "                 axlabel=\"histogram\", ax=ax[0])\n",
    "    sns.distplot(df[df[y]==i][x], hist=False, kde=True, \n",
    "                 kde_kws={\"shade\":True}, axlabel=\"density\",   \n",
    "                 ax=ax[1])\n",
    "ax[0].grid(True)\n",
    "ax[0].legend(df[y].unique())\n",
    "ax[1].grid(True)\n",
    "plt.tight_layout()\n",
    "plt.show()"
   ]
  },
  {
   "cell_type": "markdown",
   "metadata": {
    "id": "QMs9ihC1tAav"
   },
   "source": [
    "#### Char-Count Plot"
   ]
  },
  {
   "cell_type": "code",
   "execution_count": 9,
   "metadata": {
    "colab": {
     "base_uri": "https://localhost:8080/",
     "height": 470
    },
    "id": "gP9RUieHtE6E",
    "outputId": "33224356-b531-48cb-d34e-5236aeb678fb"
   },
   "outputs": [
    {
     "name": "stderr",
     "output_type": "stream",
     "text": [
      "/opt/anaconda3/envs/tf2/lib/python3.9/site-packages/seaborn/distributions.py:2619: FutureWarning: `distplot` is a deprecated function and will be removed in a future version. Please adapt your code to use either `displot` (a figure-level function with similar flexibility) or `histplot` (an axes-level function for histograms).\n",
      "  warnings.warn(msg, FutureWarning)\n",
      "/opt/anaconda3/envs/tf2/lib/python3.9/site-packages/seaborn/distributions.py:2619: FutureWarning: `distplot` is a deprecated function and will be removed in a future version. Please adapt your code to use either `displot` (a figure-level function with similar flexibility) or `kdeplot` (an axes-level function for kernel density plots).\n",
      "  warnings.warn(msg, FutureWarning)\n",
      "/opt/anaconda3/envs/tf2/lib/python3.9/site-packages/seaborn/distributions.py:2619: FutureWarning: `distplot` is a deprecated function and will be removed in a future version. Please adapt your code to use either `displot` (a figure-level function with similar flexibility) or `histplot` (an axes-level function for histograms).\n",
      "  warnings.warn(msg, FutureWarning)\n",
      "/opt/anaconda3/envs/tf2/lib/python3.9/site-packages/seaborn/distributions.py:2619: FutureWarning: `distplot` is a deprecated function and will be removed in a future version. Please adapt your code to use either `displot` (a figure-level function with similar flexibility) or `kdeplot` (an axes-level function for kernel density plots).\n",
      "  warnings.warn(msg, FutureWarning)\n"
     ]
    },
    {
     "data": {
      "image/png": "[encoded data removed]",
      "text/plain": [
       "<Figure size 432x288 with 2 Axes>"
      ]
     },
     "metadata": {
      "needs_background": "light"
     },
     "output_type": "display_data"
    }
   ],
   "source": [
    "x, y = \"char_count\", \"label\"\n",
    "fig, ax = plt.subplots(nrows=1, ncols=2)\n",
    "fig.suptitle(x, fontsize=12)\n",
    "for i in df[y].unique():\n",
    "    sns.distplot(df[df[y]==i][x], hist=True, kde=False, \n",
    "                 bins=10, hist_kws={\"alpha\":0.8}, \n",
    "                 axlabel=\"histogram\", ax=ax[0])\n",
    "    sns.distplot(df[df[y]==i][x], hist=False, kde=True, \n",
    "                 kde_kws={\"shade\":True}, axlabel=\"density\",   \n",
    "                 ax=ax[1])\n",
    "ax[0].grid(True)\n",
    "ax[0].legend(df[y].unique())\n",
    "ax[1].grid(True)\n",
    "plt.tight_layout()\n",
    "plt.show()"
   ]
  },
  {
   "cell_type": "markdown",
   "metadata": {
    "id": "_jSKDitLtPOl"
   },
   "source": [
    "#### Word Density Plot"
   ]
  },
  {
   "cell_type": "code",
   "execution_count": 10,
   "metadata": {
    "colab": {
     "base_uri": "https://localhost:8080/",
     "height": 470
    },
    "id": "AAbOIFlPtUp9",
    "outputId": "c6657d0b-8fef-45aa-e5bc-2a09bf27600d"
   },
   "outputs": [
    {
     "name": "stderr",
     "output_type": "stream",
     "text": [
      "/opt/anaconda3/envs/tf2/lib/python3.9/site-packages/seaborn/distributions.py:2619: FutureWarning: `distplot` is a deprecated function and will be removed in a future version. Please adapt your code to use either `displot` (a figure-level function with similar flexibility) or `histplot` (an axes-level function for histograms).\n",
      "  warnings.warn(msg, FutureWarning)\n",
      "/opt/anaconda3/envs/tf2/lib/python3.9/site-packages/seaborn/distributions.py:2619: FutureWarning: `distplot` is a deprecated function and will be removed in a future version. Please adapt your code to use either `displot` (a figure-level function with similar flexibility) or `kdeplot` (an axes-level function for kernel density plots).\n",
      "  warnings.warn(msg, FutureWarning)\n",
      "/opt/anaconda3/envs/tf2/lib/python3.9/site-packages/seaborn/distributions.py:2619: FutureWarning: `distplot` is a deprecated function and will be removed in a future version. Please adapt your code to use either `displot` (a figure-level function with similar flexibility) or `histplot` (an axes-level function for histograms).\n",
      "  warnings.warn(msg, FutureWarning)\n",
      "/opt/anaconda3/envs/tf2/lib/python3.9/site-packages/seaborn/distributions.py:2619: FutureWarning: `distplot` is a deprecated function and will be removed in a future version. Please adapt your code to use either `displot` (a figure-level function with similar flexibility) or `kdeplot` (an axes-level function for kernel density plots).\n",
      "  warnings.warn(msg, FutureWarning)\n"
     ]
    },
    {
     "data": {
      "image/png": "[encoded data removed]",
      "text/plain": [
       "<Figure size 432x288 with 2 Axes>"
      ]
     },
     "metadata": {
      "needs_background": "light"
     },
     "output_type": "display_data"
    }
   ],
   "source": [
    "x, y = \"word_density\", \"label\"\n",
    "fig, ax = plt.subplots(nrows=1, ncols=2)\n",
    "fig.suptitle(x, fontsize=12)\n",
    "for i in df[y].unique():\n",
    "    sns.distplot(df[df[y]==i][x], hist=True, kde=False, \n",
    "                 bins=10, hist_kws={\"alpha\":0.8}, \n",
    "                 axlabel=\"histogram\", ax=ax[0])\n",
    "    sns.distplot(df[df[y]==i][x], hist=False, kde=True, \n",
    "                 kde_kws={\"shade\":True}, axlabel=\"density\",   \n",
    "                 ax=ax[1])\n",
    "ax[0].grid(True)\n",
    "ax[0].legend(df[y].unique())\n",
    "ax[1].grid(True)\n",
    "plt.tight_layout()\n",
    "plt.show()"
   ]
  },
  {
   "cell_type": "markdown",
   "metadata": {
    "id": "1_3sQSP4TiEq"
   },
   "source": [
    "### 2.4.2 Speech Tag Count"
   ]
  },
  {
   "cell_type": "code",
   "execution_count": 11,
   "metadata": {},
   "outputs": [
    {
     "name": "stderr",
     "output_type": "stream",
     "text": [
      "[nltk_data] Downloading package punkt to\n",
      "[nltk_data]     /Users/xinfengliu/nltk_data...\n",
      "[nltk_data]   Package punkt is already up-to-date!\n",
      "[nltk_data] Downloading package averaged_perceptron_tagger to\n",
      "[nltk_data]     /Users/xinfengliu/nltk_data...\n",
      "[nltk_data]   Package averaged_perceptron_tagger is already up-to-\n",
      "[nltk_data]       date!\n",
      "[nltk_data] Downloading package universal_tagset to\n",
      "[nltk_data]     /Users/xinfengliu/nltk_data...\n",
      "[nltk_data]   Package universal_tagset is already up-to-date!\n",
      "100%|█████████████████████████████████| 416768/416768 [00:59<00:00, 7030.96it/s]\n",
      "100%|█████████████████████████████████| 119092/119092 [00:16<00:00, 7196.11it/s]\n"
     ]
    }
   ],
   "source": [
    "nltk.download('punkt')\n",
    "nltk.download('averaged_perceptron_tagger')\n",
    "nltk.download('universal_tagset')\n",
    "\n",
    "for data_set in data:\n",
    "    token = []\n",
    "    for each in tqdm(list(data_set['original_text'])):\n",
    "        token.append(word_tokenize(each))\n",
    "    data_set['token'] = token"
   ]
  },
  {
   "cell_type": "code",
   "execution_count": 12,
   "metadata": {},
   "outputs": [
    {
     "name": "stderr",
     "output_type": "stream",
     "text": [
      "[nltk_data] Downloading package wordnet to\n",
      "[nltk_data]     /Users/xinfengliu/nltk_data...\n",
      "[nltk_data]   Package wordnet is already up-to-date!\n"
     ]
    }
   ],
   "source": [
    "from nltk.stem import WordNetLemmatizer\n",
    "nltk.download('wordnet')\n",
    "wordnet_lemmatizer = WordNetLemmatizer()\n",
    "\n",
    "for data_set in data:\n",
    "    data_set['lemma'] = data_set['token'].apply(lambda x: [wordnet_lemmatizer.lemmatize(each) for each in x])"
   ]
  },
  {
   "cell_type": "code",
   "execution_count": 13,
   "metadata": {},
   "outputs": [
    {
     "name": "stderr",
     "output_type": "stream",
     "text": [
      "100%|█████████████████████████████████| 416768/416768 [05:44<00:00, 1208.48it/s]\n",
      "100%|█████████████████████████████████| 119092/119092 [01:38<00:00, 1205.27it/s]\n"
     ]
    }
   ],
   "source": [
    "for data_set in data:\n",
    "    noun = []\n",
    "    verb = []\n",
    "    adj = []\n",
    "    adv = []\n",
    "    for each in tqdm(list(data_set['token'])):\n",
    "        tag = nltk.pos_tag(each, tagset='universal')\n",
    "        tag_ct = defaultdict(int)\n",
    "        for i in range(len(tag)):\n",
    "            word_type = tag[i][1]\n",
    "            tag_ct[word_type] += 1\n",
    "        noun.append(tag_ct['NOUN'])\n",
    "        verb.append(tag_ct['VERB'])\n",
    "        adj.append(tag_ct['ADJ'])\n",
    "        adv.append(tag_ct['ADV'])\n",
    "    data_set['noun_count'] = noun\n",
    "    data_set['verb_count'] = verb\n",
    "    data_set['adj_count'] = adj\n",
    "    data_set['adv_count'] = adv"
   ]
  },
  {
   "cell_type": "markdown",
   "metadata": {
    "id": "BNLXKdKU7N9z"
   },
   "source": [
    "## 2.5 Create Basic Words Count Feature"
   ]
  },
  {
   "cell_type": "code",
   "execution_count": 14,
   "metadata": {
    "id": "FInEGb_lWyGA"
   },
   "outputs": [],
   "source": [
    "# read simple words data\n",
    "simple_words = pd.read_csv('dale_chall.txt')\n",
    "simple_words = simple_words.rename(columns={'a': 'words'})\n",
    "simp_word_ls = simple_words['words'].tolist()\n",
    "simp_word_ls = [each.lower() for each in simp_word_ls]"
   ]
  },
  {
   "cell_type": "code",
   "execution_count": 15,
   "metadata": {
    "id": "ZeOW3ezi7miz"
   },
   "outputs": [],
   "source": [
    "def simp_word_ct(x):\n",
    "    \"\"\"\n",
    "    input: a sentence in string fromat\n",
    "    \n",
    "    output: percentage of simple words in the sentence\n",
    "    \"\"\"\n",
    "    words = word_tokenize(x)\n",
    "    counter = 0\n",
    "    for i in words:\n",
    "        if i in simp_word_ls:\n",
    "            counter += 1\n",
    "    try:\n",
    "        simple_percent = counter/(len(words))\n",
    "    except ZeroDivisionError:\n",
    "        simple_percent = -1\n",
    "    return simple_percent\n",
    "\n",
    "# df['simp_word_percent'] = df['original_text'].apply(lambda x: simp_word_ct(x))\n",
    "\n",
    "for data_set in data:\n",
    "    data_set['simp_word_percent'] = data_set['original_text'].apply(lambda x: simp_word_ct(x))"
   ]
  },
  {
   "cell_type": "code",
   "execution_count": 16,
   "metadata": {},
   "outputs": [],
   "source": [
    "def stop_word_ct(x):\n",
    "    \"\"\"\n",
    "    input: a sentence in string fromat\n",
    "    \n",
    "    output: percentage of stop words in the sentence\n",
    "    \"\"\"\n",
    "    #words = word_tokenize(x)\n",
    "    words = x\n",
    "    counter = 0\n",
    "    for i in words:\n",
    "        if i in stop:\n",
    "            counter += 1\n",
    "    stop_percent = counter/(len(words)+1)\n",
    "    return stop_percent\n",
    "\n",
    "for data_set in data:\n",
    "    data_set['stop_word_percent'] = data_set['lemma'].apply(lambda x: stop_word_ct(x))"
   ]
  },
  {
   "cell_type": "markdown",
   "metadata": {
    "id": "hjvbOHmD5fKd"
   },
   "source": [
    "## 2.5.1 Average Word Difficuly\n",
    "\n",
    "AoA_51715_words.csv"
   ]
  },
  {
   "cell_type": "code",
   "execution_count": 17,
   "metadata": {
    "id": "Qze-ZpV080Xu"
   },
   "outputs": [],
   "source": [
    "aoa_words = pd.read_csv('AoA_51715_words.csv',encoding = \"ISO-8859-1\")"
   ]
  },
  {
   "cell_type": "markdown",
   "metadata": {
    "id": "2XVo3cl1EOuY"
   },
   "source": [
    "## 2.5.2 Concreteness ratings"
   ]
  },
  {
   "cell_type": "code",
   "execution_count": 18,
   "metadata": {
    "id": "K9B5vPAuD-pg"
   },
   "outputs": [],
   "source": [
    "concrete = pd.read_csv('concretness.csv')"
   ]
  },
  {
   "cell_type": "code",
   "execution_count": 19,
   "metadata": {
    "id": "1DIhh3sBEsoG"
   },
   "outputs": [],
   "source": [
    "age_dict = dict(zip(aoa_words['Word'],aoa_words['AoA_Kup_lem']))\n",
    "perc_dict = dict(zip(aoa_words['Word'],aoa_words['Perc_known_lem']))\n",
    "\n",
    "age_mean = np.mean(aoa_words['AoA_Kup_lem'])\n",
    "perc_mean = np.mean(aoa_words['Perc_known_lem'])\n",
    "\n",
    "concrete_dict = dict(zip(concrete['Word'],concrete['Conc.M']))\n",
    "concrete_mean = np.mean(concrete['Conc.M'])\n"
   ]
  },
  {
   "cell_type": "code",
   "execution_count": 20,
   "metadata": {},
   "outputs": [
    {
     "name": "stderr",
     "output_type": "stream",
     "text": [
      "100%|████████████████████████████████| 416768/416768 [00:09<00:00, 45423.17it/s]\n",
      "100%|████████████████████████████████| 119092/119092 [00:02<00:00, 50568.30it/s]\n"
     ]
    }
   ],
   "source": [
    "for data_set in data:\n",
    "    avg_age_list = []\n",
    "    avg_per_list = []\n",
    "    avg_concrete_list = []\n",
    "    for each in tqdm(list(data_set['lemma'])):\n",
    "        total_age = 0\n",
    "        total_percent = 0\n",
    "        total_concrete = 0\n",
    "        for each_word in each:\n",
    "            if age_dict.get(each_word):\n",
    "                age = age_dict.get(each_word)\n",
    "            else:\n",
    "                age = age_mean\n",
    "            total_age += age\n",
    "            \n",
    "            if perc_dict.get(each_word):\n",
    "                percent = perc_dict.get(each_word)\n",
    "            else:\n",
    "                percent = perc_mean\n",
    "            total_percent += percent\n",
    "            \n",
    "            if concrete_dict.get(each_word):\n",
    "                concrete_score = concrete_dict.get(each_word)\n",
    "            else:\n",
    "                concrete_score = concrete_mean\n",
    "            total_concrete += concrete_score\n",
    "        \n",
    "        if len(each) != 0:\n",
    "            avg_age = total_age / len(each)\n",
    "            avg_percent = total_percent / len(each)\n",
    "            avg_concrete = total_concrete / len(each)\n",
    "        else:\n",
    "            avg_age = age_mean\n",
    "            avg_percent = perc_mean\n",
    "            avg_concrete = concrete_mean\n",
    "        avg_age_list.append(avg_age)\n",
    "        avg_per_list.append(avg_percent)\n",
    "        avg_concrete_list.append(avg_concrete)\n",
    "        \n",
    "    data_set['age'] = avg_age_list\n",
    "    data_set['percent_know'] = avg_per_list\n",
    "    data_set['concreteness'] = avg_concrete_list"
   ]
  },
  {
   "cell_type": "markdown",
   "metadata": {
    "id": "eXOhuHGvvL1t"
   },
   "source": [
    "## 2.6 Count of number"
   ]
  },
  {
   "cell_type": "code",
   "execution_count": 21,
   "metadata": {
    "colab": {
     "base_uri": "https://localhost:8080/"
    },
    "id": "NVg0JiG00HcK",
    "outputId": "b2d5ed2f-e59d-4bb2-8d8f-269f24e9d62a"
   },
   "outputs": [
    {
     "name": "stderr",
     "output_type": "stream",
     "text": [
      "100%|███████████████████████████████| 416768/416768 [00:01<00:00, 411838.28it/s]\n",
      "100%|███████████████████████████████| 119092/119092 [00:00<00:00, 411149.55it/s]\n"
     ]
    }
   ],
   "source": [
    "for data_set in data:\n",
    "    num_percent_list = []\n",
    "    for each in tqdm(list(data_set['token'])):\n",
    "        num_cnt = 0\n",
    "        for each_word in each:\n",
    "            if each_word.isdigit() == True:\n",
    "                num_cnt += 1\n",
    "        \n",
    "        if len(each) != 0:\n",
    "            number_per = num_cnt / len(each)\n",
    "        else:\n",
    "            number_per = 0\n",
    "        \n",
    "        num_percent_list.append(number_per)\n",
    "    \n",
    "    data_set['num'] = num_percent_list"
   ]
  },
  {
   "cell_type": "markdown",
   "metadata": {
    "id": "x5bFJy91vi0M"
   },
   "source": [
    "## 2.7 Upper case"
   ]
  },
  {
   "cell_type": "code",
   "execution_count": 22,
   "metadata": {},
   "outputs": [],
   "source": [
    "X_pred = X_pred.drop(columns=['id', 'label' ])"
   ]
  },
  {
   "cell_type": "code",
   "execution_count": 23,
   "metadata": {
    "id": "Qq2QOT4pkjoR"
   },
   "outputs": [],
   "source": [
    "X = df.drop(columns = ['label'])\n",
    "y = df['label']"
   ]
  },
  {
   "cell_type": "code",
   "execution_count": 24,
   "metadata": {
    "id": "42ZSOf4Zkl25"
   },
   "outputs": [],
   "source": [
    "X_train, X_test, y_train, y_test = model_selection.train_test_split(X, y, train_size=0.85, random_state=1)"
   ]
  },
  {
   "cell_type": "markdown",
   "metadata": {
    "id": "GuGoQsCi5nPm"
   },
   "source": [
    "## The number of top 100 and least 1000 words"
   ]
  },
  {
   "cell_type": "code",
   "execution_count": 25,
   "metadata": {
    "colab": {
     "base_uri": "https://localhost:8080/"
    },
    "id": "1B5-cebGAIVy",
    "outputId": "f3832cd5-5570-4a1f-94cb-1e66027076b1"
   },
   "outputs": [
    {
     "name": "stderr",
     "output_type": "stream",
     "text": [
      "100%|████████████████████████████████| 354252/354252 [00:12<00:00, 27784.74it/s]\n"
     ]
    }
   ],
   "source": [
    "total_token = []\n",
    "for each in tqdm(X_train['lemma']):\n",
    "    each = [each_word for each_word in each if each_word not in stop and not each_word.isdigit()]\n",
    "    total_token += each\n",
    "\n",
    "counts = Counter(total_token)\n",
    "\n",
    "sorted_x = dict(sorted(counts.items(), key=lambda item: item[1],reverse=True)[0:100])\n",
    "sorted_x_reverse = dict(sorted(counts.items(), key=lambda item: item[1])[0:1000])\n",
    "\n",
    "top100list = list(sorted_x.keys())\n",
    "least_1000_list = list(sorted_x_reverse.keys())\n",
    "\n",
    "X_train['top100'] = X_train['lemma'].apply(lambda x: len([w for w in x if w in top100list]))\n",
    "X_test['top100'] = X_test['lemma'].apply(lambda x: len([w for w in x if w in top100list]))\n",
    "\n",
    "X_train['least1000'] = X_train['lemma'].apply(lambda x: len([w for w in x if w in least_1000_list]))\n",
    "X_test['least1000'] = X_test['lemma'].apply(lambda x: len([w for w in x if w in least_1000_list]))"
   ]
  },
  {
   "cell_type": "code",
   "execution_count": 26,
   "metadata": {},
   "outputs": [
    {
     "name": "stderr",
     "output_type": "stream",
     "text": [
      "100%|████████████████████████████████| 119092/119092 [00:04<00:00, 28128.44it/s]\n"
     ]
    }
   ],
   "source": [
    "total_token = []\n",
    "for each in tqdm(X_pred['lemma']):\n",
    "    each = [each_word for each_word in each if each_word not in stop and not each_word.isdigit()]\n",
    "    total_token += each\n",
    "    \n",
    "counts = Counter(total_token)\n",
    "\n",
    "sorted_x = dict(sorted(counts.items(), key=lambda item: item[1],reverse=True)[0:100])\n",
    "sorted_x_reverse = dict(sorted(counts.items(), key=lambda item: item[1])[0:1000])\n",
    "top100list = list(sorted_x.keys())\n",
    "least_1000_list = list(sorted_x_reverse.keys())\n",
    "\n",
    "X_pred['top100'] = X_pred['lemma'].apply(lambda x: len([w for w in x if w in top100list]))\n",
    "\n",
    "X_pred['least1000'] = X_pred['lemma'].apply(lambda x: len([w for w in x if w in least_1000_list]))\n",
    "\n",
    "X_pred.drop(columns=['lemma'],inplace = True)"
   ]
  },
  {
   "cell_type": "markdown",
   "metadata": {
    "id": "a8an08KBRGtN"
   },
   "source": [
    "## 2.8 Text Based Features"
   ]
  },
  {
   "cell_type": "code",
   "execution_count": 27,
   "metadata": {},
   "outputs": [],
   "source": [
    "X_train_text = X_train['modified_txt']\n",
    "X_test_text = X_test['modified_txt']\n",
    "X_pred_text = X_pred['modified_txt']"
   ]
  },
  {
   "cell_type": "markdown",
   "metadata": {
    "id": "I66nO_rd0xHm"
   },
   "source": [
    "### 2.8.1 TFIDF Text Based Feature"
   ]
  },
  {
   "cell_type": "code",
   "execution_count": 28,
   "metadata": {
    "id": "cgrSPGZW068i"
   },
   "outputs": [],
   "source": [
    "tfidf_vect = TfidfVectorizer(analyzer='word', token_pattern=r'\\w{1,}', max_features=500)\n",
    "tfidf_vect.fit(X_train['modified_txt'])\n",
    "X_train_tfidf = tfidf_vect.transform(X_train_text)\n",
    "X_test_tfidf = tfidf_vect.transform(X_test_text)\n",
    "X_pred_tfidf = tfidf_vect.transform(X_pred_text)"
   ]
  },
  {
   "cell_type": "code",
   "execution_count": 29,
   "metadata": {},
   "outputs": [],
   "source": [
    "tdidf_df_train = pd.DataFrame(X_train_tfidf.todense())\n",
    "tdidf_df_test = pd.DataFrame(X_test_tfidf.todense())\n",
    "tdidf_df_pred = pd.DataFrame(X_pred_tfidf.todense())"
   ]
  },
  {
   "cell_type": "markdown",
   "metadata": {
    "id": "QYgPLqqpW3P7"
   },
   "source": [
    "## 2.9 Combined Features"
   ]
  },
  {
   "cell_type": "markdown",
   "metadata": {},
   "source": [
    "### 2.9.1 TFIDF Combined"
   ]
  },
  {
   "cell_type": "code",
   "execution_count": 30,
   "metadata": {},
   "outputs": [],
   "source": [
    "X_train = X_train.fillna(0)\n",
    "X_test = X_test.fillna(0)\n",
    "X_pred = X_pred.fillna(0)"
   ]
  },
  {
   "cell_type": "code",
   "execution_count": 31,
   "metadata": {},
   "outputs": [],
   "source": [
    "X_train.reset_index(drop=True, inplace=True)\n",
    "tdidf_df_train.reset_index(drop=True, inplace=True)\n",
    "\n",
    "X_test.reset_index(drop=True, inplace=True)\n",
    "tdidf_df_test.reset_index(drop=True, inplace=True)\n",
    "\n",
    "X_pred.reset_index(drop=True, inplace=True)\n",
    "tdidf_df_pred.reset_index(drop=True, inplace=True)\n",
    "\n",
    "combined_X_train = pd.concat([X_train, tdidf_df_train], axis=1)\n",
    "combined_X_test = pd.concat([X_test, tdidf_df_test], axis=1)\n",
    "combined_X_pred = pd.concat([X_pred, tdidf_df_pred], axis=1)"
   ]
  },
  {
   "cell_type": "code",
   "execution_count": 32,
   "metadata": {},
   "outputs": [],
   "source": [
    "combined_X_train.drop(columns = ['original_text','modified_txt','token','lemma'],inplace = True)\n",
    "combined_X_test.drop(columns = ['original_text','modified_txt','token','lemma'],inplace = True)\n",
    "\n",
    "X_train.drop(columns = ['original_text','modified_txt','token','lemma'],inplace = True)\n",
    "X_test.drop(columns = ['original_text','modified_txt','token','lemma'],inplace = True)\n",
    "\n",
    "X_pred.drop(columns=['original_text', 'modified_txt', 'token'], inplace = True)\n",
    "combined_X_pred.drop(columns=['original_text', 'modified_txt', 'token'], inplace = True)"
   ]
  },
  {
   "cell_type": "markdown",
   "metadata": {
    "id": "M-XU7SBpwt07"
   },
   "source": [
    "# 3. Model Building"
   ]
  },
  {
   "cell_type": "markdown",
   "metadata": {
    "id": "u5koGGGwwmB0"
   },
   "source": [
    "### (1). Standardiazation"
   ]
  },
  {
   "cell_type": "code",
   "execution_count": 33,
   "metadata": {
    "id": "EUWzx9f38i8Y"
   },
   "outputs": [],
   "source": [
    "from sklearn import preprocessing\n",
    "scaler = preprocessing.MinMaxScaler().fit(X_train)\n",
    "X_train_scaled = scaler.transform(X_train)\n",
    "X_test_scaled = scaler.transform(X_test)"
   ]
  },
  {
   "cell_type": "code",
   "execution_count": 34,
   "metadata": {},
   "outputs": [
    {
     "name": "stderr",
     "output_type": "stream",
     "text": [
      "/opt/anaconda3/envs/tf2/lib/python3.9/site-packages/sklearn/utils/validation.py:1675: FutureWarning: Feature names only support names that are all strings. Got feature names with dtypes: ['int', 'str']. An error will be raised in 1.2.\n",
      "  warnings.warn(\n",
      "/opt/anaconda3/envs/tf2/lib/python3.9/site-packages/sklearn/utils/validation.py:1675: FutureWarning: Feature names only support names that are all strings. Got feature names with dtypes: ['int', 'str']. An error will be raised in 1.2.\n",
      "  warnings.warn(\n",
      "/opt/anaconda3/envs/tf2/lib/python3.9/site-packages/sklearn/utils/validation.py:1675: FutureWarning: Feature names only support names that are all strings. Got feature names with dtypes: ['int', 'str']. An error will be raised in 1.2.\n",
      "  warnings.warn(\n",
      "/opt/anaconda3/envs/tf2/lib/python3.9/site-packages/sklearn/utils/validation.py:1675: FutureWarning: Feature names only support names that are all strings. Got feature names with dtypes: ['int', 'str']. An error will be raised in 1.2.\n",
      "  warnings.warn(\n"
     ]
    }
   ],
   "source": [
    "scaler2 = preprocessing.MinMaxScaler().fit(combined_X_train)\n",
    "combined_X_train = scaler2.transform(combined_X_train)\n",
    "combined_X_test = scaler2.transform(combined_X_test)\n",
    "combined_X_pred = scaler2.transform(combined_X_pred)"
   ]
  },
  {
   "cell_type": "markdown",
   "metadata": {
    "id": "_wRdUocakdo-"
   },
   "source": [
    "### (2). Dummy Classifier"
   ]
  },
  {
   "cell_type": "code",
   "execution_count": 35,
   "metadata": {
    "colab": {
     "base_uri": "https://localhost:8080/"
    },
    "id": "uHoameDzkc5i",
    "outputId": "d0462de4-5aae-4914-d930-bdbec2212550"
   },
   "outputs": [
    {
     "name": "stdout",
     "output_type": "stream",
     "text": [
      "Cross Validation Score of Dummy classifier on training set: 0.500\n"
     ]
    }
   ],
   "source": [
    "from sklearn.dummy import DummyClassifier\n",
    "dummy_clf = DummyClassifier().fit(X_train_scaled, y_train)\n",
    "dummy_cv_score = cross_val_score(dummy_clf, X_train_scaled, y_train, cv=5)\n",
    "print('Cross Validation Score of Dummy classifier on training set: {:.3f}'\n",
    "      .format(dummy_cv_score.mean()))"
   ]
  },
  {
   "cell_type": "code",
   "execution_count": 36,
   "metadata": {
    "colab": {
     "base_uri": "https://localhost:8080/"
    },
    "id": "9sj1srBPT6-l",
    "outputId": "c95d75aa-cf4f-41a3-d3f3-61c08d8f41f9"
   },
   "outputs": [
    {
     "name": "stdout",
     "output_type": "stream",
     "text": [
      "Cross Validation Score of Dummy classifier on TFIDF training set: 0.500\n"
     ]
    }
   ],
   "source": [
    "dummy_clf_tfidf = DummyClassifier().fit(tdidf_df_train, y_train)\n",
    "dummy_TFIDF_score = cross_val_score(dummy_clf_tfidf, tdidf_df_train, y_train, cv=5)\n",
    "print('Cross Validation Score of Dummy classifier on TFIDF training set: {:.3f}'\n",
    "      .format(dummy_TFIDF_score.mean()))"
   ]
  },
  {
   "cell_type": "code",
   "execution_count": 37,
   "metadata": {
    "colab": {
     "base_uri": "https://localhost:8080/"
    },
    "id": "2hUZob3sT-LZ",
    "outputId": "d87df212-bc84-403d-ec03-37258bae22aa"
   },
   "outputs": [
    {
     "name": "stdout",
     "output_type": "stream",
     "text": [
      "Cross Validation Score of Dummy classifier on Combined Features training set: 0.500\n"
     ]
    }
   ],
   "source": [
    "dummy_clf_comb = DummyClassifier().fit(combined_X_train, y_train)\n",
    "dummy_score_comb = cross_val_score(dummy_clf_comb, combined_X_train, y_train, cv=5)\n",
    "print('Cross Validation Score of Dummy classifier on Combined Features training set: {:.3f}'\n",
    "      .format(dummy_score_comb.mean()))"
   ]
  },
  {
   "cell_type": "markdown",
   "metadata": {
    "id": "t-mKbRxskrQz"
   },
   "source": [
    "### (3). Logistic Regression Classifier"
   ]
  },
  {
   "cell_type": "code",
   "execution_count": 38,
   "metadata": {
    "colab": {
     "base_uri": "https://localhost:8080/"
    },
    "id": "lA18h2MIkuni",
    "outputId": "baf12a69-f9a3-4a0b-e1fa-3a07bbcd14fb"
   },
   "outputs": [
    {
     "name": "stdout",
     "output_type": "stream",
     "text": [
      "Cross Validation Score of Logistic Regression classifier on training set: 0.639\n"
     ]
    }
   ],
   "source": [
    "from sklearn.linear_model import LogisticRegression\n",
    "log_clf = LogisticRegression(max_iter=500).fit(X_train_scaled, y_train)\n",
    "log_cv_score = cross_val_score(log_clf, X_train_scaled, y_train, cv=5)\n",
    "print('Cross Validation Score of Logistic Regression classifier on training set: {:.3f}'\n",
    "      .format(log_cv_score.mean()))"
   ]
  },
  {
   "cell_type": "code",
   "execution_count": 39,
   "metadata": {
    "colab": {
     "base_uri": "https://localhost:8080/"
    },
    "id": "GFyI7IsqUeD3",
    "outputId": "6af82c35-11f2-4329-fd3c-934541227e05"
   },
   "outputs": [
    {
     "name": "stderr",
     "output_type": "stream",
     "text": [
      "/opt/anaconda3/envs/tf2/lib/python3.9/site-packages/sklearn/linear_model/_logistic.py:814: ConvergenceWarning: lbfgs failed to converge (status=1):\n",
      "STOP: TOTAL NO. of ITERATIONS REACHED LIMIT.\n",
      "\n",
      "Increase the number of iterations (max_iter) or scale the data as shown in:\n",
      "    https://scikit-learn.org/stable/modules/preprocessing.html\n",
      "Please also refer to the documentation for alternative solver options:\n",
      "    https://scikit-learn.org/stable/modules/linear_model.html#logistic-regression\n",
      "  n_iter_i = _check_optimize_result(\n",
      "/opt/anaconda3/envs/tf2/lib/python3.9/site-packages/sklearn/linear_model/_logistic.py:814: ConvergenceWarning: lbfgs failed to converge (status=1):\n",
      "STOP: TOTAL NO. of ITERATIONS REACHED LIMIT.\n",
      "\n",
      "Increase the number of iterations (max_iter) or scale the data as shown in:\n",
      "    https://scikit-learn.org/stable/modules/preprocessing.html\n",
      "Please also refer to the documentation for alternative solver options:\n",
      "    https://scikit-learn.org/stable/modules/linear_model.html#logistic-regression\n",
      "  n_iter_i = _check_optimize_result(\n",
      "/opt/anaconda3/envs/tf2/lib/python3.9/site-packages/sklearn/linear_model/_logistic.py:814: ConvergenceWarning: lbfgs failed to converge (status=1):\n",
      "STOP: TOTAL NO. of ITERATIONS REACHED LIMIT.\n",
      "\n",
      "Increase the number of iterations (max_iter) or scale the data as shown in:\n",
      "    https://scikit-learn.org/stable/modules/preprocessing.html\n",
      "Please also refer to the documentation for alternative solver options:\n",
      "    https://scikit-learn.org/stable/modules/linear_model.html#logistic-regression\n",
      "  n_iter_i = _check_optimize_result(\n",
      "/opt/anaconda3/envs/tf2/lib/python3.9/site-packages/sklearn/linear_model/_logistic.py:814: ConvergenceWarning: lbfgs failed to converge (status=1):\n",
      "STOP: TOTAL NO. of ITERATIONS REACHED LIMIT.\n",
      "\n",
      "Increase the number of iterations (max_iter) or scale the data as shown in:\n",
      "    https://scikit-learn.org/stable/modules/preprocessing.html\n",
      "Please also refer to the documentation for alternative solver options:\n",
      "    https://scikit-learn.org/stable/modules/linear_model.html#logistic-regression\n",
      "  n_iter_i = _check_optimize_result(\n",
      "/opt/anaconda3/envs/tf2/lib/python3.9/site-packages/sklearn/linear_model/_logistic.py:814: ConvergenceWarning: lbfgs failed to converge (status=1):\n",
      "STOP: TOTAL NO. of ITERATIONS REACHED LIMIT.\n",
      "\n",
      "Increase the number of iterations (max_iter) or scale the data as shown in:\n",
      "    https://scikit-learn.org/stable/modules/preprocessing.html\n",
      "Please also refer to the documentation for alternative solver options:\n",
      "    https://scikit-learn.org/stable/modules/linear_model.html#logistic-regression\n",
      "  n_iter_i = _check_optimize_result(\n",
      "/opt/anaconda3/envs/tf2/lib/python3.9/site-packages/sklearn/linear_model/_logistic.py:814: ConvergenceWarning: lbfgs failed to converge (status=1):\n",
      "STOP: TOTAL NO. of ITERATIONS REACHED LIMIT.\n",
      "\n",
      "Increase the number of iterations (max_iter) or scale the data as shown in:\n",
      "    https://scikit-learn.org/stable/modules/preprocessing.html\n",
      "Please also refer to the documentation for alternative solver options:\n",
      "    https://scikit-learn.org/stable/modules/linear_model.html#logistic-regression\n",
      "  n_iter_i = _check_optimize_result(\n"
     ]
    },
    {
     "name": "stdout",
     "output_type": "stream",
     "text": [
      "Cross Validation Score of Logistic Regression classifier on TFIDF training set: 0.628\n"
     ]
    }
   ],
   "source": [
    "log_clf_tfidf = LogisticRegression().fit(tdidf_df_train, y_train)\n",
    "log_cv_score_tfidf = cross_val_score(log_clf_tfidf, tdidf_df_train, y_train, cv=5)\n",
    "print('Cross Validation Score of Logistic Regression classifier on TFIDF training set: {:.3f}'\n",
    "      .format(log_cv_score_tfidf.mean()))"
   ]
  },
  {
   "cell_type": "code",
   "execution_count": 40,
   "metadata": {
    "colab": {
     "base_uri": "https://localhost:8080/"
    },
    "id": "7TTM8oQhZ8k0",
    "outputId": "a1b5b15e-74b6-4cd5-97a5-6a91ac3614cb"
   },
   "outputs": [
    {
     "name": "stdout",
     "output_type": "stream",
     "text": [
      "Cross Validation Score of Logistic Regression classifier on Combined Feature training set: 0.667\n"
     ]
    }
   ],
   "source": [
    "log_clf_comb = LogisticRegression(max_iter=500).fit(combined_X_train, y_train)\n",
    "log_cv_score_comb = cross_val_score(log_clf_comb, combined_X_train, y_train, cv=5)\n",
    "print('Cross Validation Score of Logistic Regression classifier on Combined Feature training set: {:.3f}'\n",
    "      .format(log_cv_score_comb.mean()))"
   ]
  },
  {
   "cell_type": "markdown",
   "metadata": {
    "id": "_Icf1elnZyIh"
   },
   "source": [
    "### (5). KNN"
   ]
  },
  {
   "cell_type": "code",
   "execution_count": 41,
   "metadata": {
    "colab": {
     "base_uri": "https://localhost:8080/"
    },
    "id": "neEYNISjZ0Yu",
    "outputId": "e4fb7888-4149-4b4f-f6b8-176dec4d44f0"
   },
   "outputs": [
    {
     "name": "stdout",
     "output_type": "stream",
     "text": [
      "Cross Validation Score of KNN classifier on training set: 0.640\n"
     ]
    }
   ],
   "source": [
    "from sklearn.neighbors import KNeighborsClassifier\n",
    "knn_clf = KNeighborsClassifier().fit(X_train_scaled, y_train)\n",
    "knn_cv_score = cross_val_score(knn_clf, X_train_scaled, y_train, cv=5)\n",
    "print('Cross Validation Score of KNN classifier on training set: {:.3f}'\n",
    "      .format(knn_cv_score.mean()))"
   ]
  },
  {
   "cell_type": "code",
   "execution_count": 42,
   "metadata": {
    "colab": {
     "base_uri": "https://localhost:8080/"
    },
    "id": "FVLjbWZsWHIm",
    "outputId": "00b9b601-434c-444b-c151-0f575e640952"
   },
   "outputs": [
    {
     "name": "stdout",
     "output_type": "stream",
     "text": [
      "Cross Validation Score of KNN classifier on TFIDF training set: 0.565\n"
     ]
    }
   ],
   "source": [
    "knn_clf_tfidf = KNeighborsClassifier().fit(tdidf_df_train, y_train)\n",
    "knn_cv_score_tfidf = cross_val_score(knn_clf_tfidf, tdidf_df_train, y_train, cv=5)\n",
    "print('Cross Validation Score of KNN classifier on TFIDF training set: {:.3f}'\n",
    "      .format(knn_cv_score_tfidf.mean()))"
   ]
  },
  {
   "cell_type": "code",
   "execution_count": 43,
   "metadata": {
    "colab": {
     "base_uri": "https://localhost:8080/"
    },
    "id": "q-eouGihZiDe",
    "outputId": "20ba872e-7805-4317-d049-efad48235492"
   },
   "outputs": [
    {
     "name": "stdout",
     "output_type": "stream",
     "text": [
      "Cross Validation Score of KNN classifier on Combined Features training set: 0.603\n"
     ]
    }
   ],
   "source": [
    "knn_clf_comb = KNeighborsClassifier().fit(combined_X_train, y_train)\n",
    "knn_cv_score_comb= cross_val_score(knn_clf_comb, combined_X_train, y_train, cv=5)\n",
    "print('Cross Validation Score of KNN classifier on Combined Features training set: {:.3f}'\n",
    "      .format(knn_cv_score_comb.mean()))"
   ]
  },
  {
   "cell_type": "markdown",
   "metadata": {
    "id": "svedDB0bZ2v-"
   },
   "source": [
    "### (6). Decision Tree"
   ]
  },
  {
   "cell_type": "code",
   "execution_count": 44,
   "metadata": {
    "colab": {
     "base_uri": "https://localhost:8080/"
    },
    "id": "k02IRxmxZ5qY",
    "outputId": "12c58264-2098-4bfa-c7c9-1003a81c01c7"
   },
   "outputs": [
    {
     "name": "stdout",
     "output_type": "stream",
     "text": [
      "Cross Validation Score of Decision Tree classifier on training set: 0.654\n"
     ]
    }
   ],
   "source": [
    "from sklearn.tree import DecisionTreeClassifier\n",
    "dt_clf = DecisionTreeClassifier().fit(X_train_scaled, y_train)\n",
    "dt_cv_score = cross_val_score(dt_clf, X_train_scaled, y_train, cv=5)\n",
    "print('Cross Validation Score of Decision Tree classifier on training set: {:.3f}'\n",
    "      .format(dt_cv_score.mean()))"
   ]
  },
  {
   "cell_type": "code",
   "execution_count": 45,
   "metadata": {
    "colab": {
     "base_uri": "https://localhost:8080/"
    },
    "id": "our8yUnTd-lO",
    "outputId": "b44b3f4f-7cae-4b58-e2dc-77e9ff53024e"
   },
   "outputs": [
    {
     "name": "stdout",
     "output_type": "stream",
     "text": [
      "Cross Validation Score of Decision Tree classifier on TFIDF training set: 0.618\n"
     ]
    }
   ],
   "source": [
    "dt_clf_tfidf = DecisionTreeClassifier().fit(tdidf_df_train, y_train)\n",
    "dt_cv_score_tfidf = cross_val_score(dt_clf_tfidf, tdidf_df_train, y_train, cv=5)\n",
    "print('Cross Validation Score of Decision Tree classifier on TFIDF training set: {:.3f}'\n",
    "      .format(dt_cv_score_tfidf.mean()))"
   ]
  },
  {
   "cell_type": "code",
   "execution_count": 46,
   "metadata": {
    "colab": {
     "base_uri": "https://localhost:8080/"
    },
    "id": "1DYUdQ2fd-tX",
    "outputId": "463df7bd-686f-4b51-f612-8e6d4dc22058"
   },
   "outputs": [
    {
     "name": "stdout",
     "output_type": "stream",
     "text": [
      "Cross Validation Score of Decision Tree classifier on Combined Feature training set: 0.666\n"
     ]
    }
   ],
   "source": [
    "dt_clf_comb = DecisionTreeClassifier().fit(combined_X_train, y_train)\n",
    "dt_cv_score_comb = cross_val_score(dt_clf, combined_X_train, y_train, cv=5)\n",
    "print('Cross Validation Score of Decision Tree classifier on Combined Feature training set: {:.3f}'\n",
    "      .format(dt_cv_score_comb.mean()))"
   ]
  },
  {
   "cell_type": "markdown",
   "metadata": {
    "id": "HK80nWEQZ8B5"
   },
   "source": [
    "### (7). Random Forest"
   ]
  },
  {
   "cell_type": "code",
   "execution_count": 47,
   "metadata": {
    "colab": {
     "base_uri": "https://localhost:8080/"
    },
    "id": "fMQX6moNZ-qn",
    "outputId": "2db34a01-6a9c-4c94-8b44-e72d0dbcf5ef"
   },
   "outputs": [
    {
     "name": "stdout",
     "output_type": "stream",
     "text": [
      "Cross Validation Score of Random Forest classifier on training set: 0.700\n"
     ]
    }
   ],
   "source": [
    "from sklearn.ensemble import RandomForestClassifier\n",
    "from sklearn.model_selection import GridSearchCV\n",
    "rf_clf = RandomForestClassifier().fit(X_train_scaled,y_train)\n",
    "rf_cv_score = cross_val_score(rf_clf, X_train_scaled, y_train, cv=5)\n",
    "print('Cross Validation Score of Random Forest classifier on training set: {:.3f}'\n",
    "      .format(rf_cv_score.mean()))"
   ]
  },
  {
   "cell_type": "code",
   "execution_count": 48,
   "metadata": {
    "colab": {
     "base_uri": "https://localhost:8080/"
    },
    "id": "IF2qUmV8CdfI",
    "outputId": "ace448bf-1e0a-448f-bec2-4e2144026664"
   },
   "outputs": [
    {
     "name": "stdout",
     "output_type": "stream",
     "text": [
      "Cross Validation Score of Random Forest classifier on TFIDF training set: 0.630\n"
     ]
    }
   ],
   "source": [
    "rf_clf_tfidf = RandomForestClassifier().fit(tdidf_df_train,y_train)\n",
    "rf_cv_score_tfidf = cross_val_score(rf_clf_tfidf, tdidf_df_train, y_train, cv=5)\n",
    "print('Cross Validation Score of Random Forest classifier on TFIDF training set: {:.3f}'\n",
    "      .format(rf_cv_score_tfidf.mean()))"
   ]
  },
  {
   "cell_type": "code",
   "execution_count": 49,
   "metadata": {
    "colab": {
     "base_uri": "https://localhost:8080/"
    },
    "id": "bJOKHnp2eZ7-",
    "outputId": "006d16b8-f0d6-44ca-bb17-d7444171f281"
   },
   "outputs": [
    {
     "name": "stdout",
     "output_type": "stream",
     "text": [
      "Cross Validation Score of Random Forest classifier on Combined Features training set: 0.709\n"
     ]
    }
   ],
   "source": [
    "rf_clf_comb = RandomForestClassifier().fit(combined_X_train,y_train)\n",
    "rf_cv_score_comb = cross_val_score(rf_clf_comb, combined_X_train, y_train, cv=5)\n",
    "print('Cross Validation Score of Random Forest classifier on Combined Features training set: {:.3f}'\n",
    "      .format(rf_cv_score_comb.mean()))"
   ]
  },
  {
   "cell_type": "markdown",
   "metadata": {
    "id": "7hnmu-vUaBOv"
   },
   "source": [
    "### (8). AdaBoost"
   ]
  },
  {
   "cell_type": "code",
   "execution_count": 50,
   "metadata": {
    "colab": {
     "base_uri": "https://localhost:8080/"
    },
    "id": "DDV9Ix0kaFIV",
    "outputId": "50fb9aee-1786-45af-a59e-afdfbdcb09e7"
   },
   "outputs": [
    {
     "name": "stdout",
     "output_type": "stream",
     "text": [
      "Cross Validation Score of AdaBoosting classifier on training set: 0.644\n"
     ]
    }
   ],
   "source": [
    "from sklearn.ensemble import AdaBoostClassifier\n",
    "adb_clf = AdaBoostClassifier().fit(X_train_scaled, y_train)\n",
    "adb_cv_score = cross_val_score(adb_clf, X_train_scaled, y_train, cv=5)\n",
    "print('Cross Validation Score of AdaBoosting classifier on training set: {:.3f}'\n",
    "      .format(adb_cv_score.mean()))"
   ]
  },
  {
   "cell_type": "code",
   "execution_count": 51,
   "metadata": {
    "colab": {
     "base_uri": "https://localhost:8080/"
    },
    "id": "4Yzm3DdpezAB",
    "outputId": "84ba4e62-bd71-49d0-f72b-2d87bae9205e"
   },
   "outputs": [
    {
     "name": "stdout",
     "output_type": "stream",
     "text": [
      "Cross Validation Score of AdaBoosting classifier on TFIDF training set: 0.598\n"
     ]
    }
   ],
   "source": [
    "adb_clf_tfidf = AdaBoostClassifier().fit(tdidf_df_train, y_train)\n",
    "adb_cv_score_tfidf = cross_val_score(adb_clf_tfidf, tdidf_df_train, y_train, cv=5)\n",
    "print('Cross Validation Score of AdaBoosting classifier on TFIDF training set: {:.3f}'\n",
    "      .format(adb_cv_score_tfidf.mean()))"
   ]
  },
  {
   "cell_type": "code",
   "execution_count": 52,
   "metadata": {
    "colab": {
     "base_uri": "https://localhost:8080/"
    },
    "id": "NgOBDHw8ezTS",
    "outputId": "01e810cc-1861-4a43-a8a1-addd8b956d40",
    "scrolled": true
   },
   "outputs": [
    {
     "name": "stdout",
     "output_type": "stream",
     "text": [
      "Cross Validation Score of AdaBoosting classifier on Combined Features training set: 0.658\n"
     ]
    }
   ],
   "source": [
    "adb_clf_comb = AdaBoostClassifier().fit(combined_X_train, y_train)\n",
    "adb_cv_score_comb = cross_val_score(adb_clf_comb, combined_X_train, y_train, cv=5)\n",
    "print('Cross Validation Score of AdaBoosting classifier on Combined Features training set: {:.3f}'\n",
    "      .format(adb_cv_score_comb.mean()))"
   ]
  },
  {
   "cell_type": "markdown",
   "metadata": {
    "id": "DhlZd9lpaHma"
   },
   "source": [
    "### (9). XGBoost"
   ]
  },
  {
   "cell_type": "code",
   "execution_count": 53,
   "metadata": {
    "colab": {
     "base_uri": "https://localhost:8080/"
    },
    "id": "hlKOu9bqaMfB",
    "outputId": "d80be242-1fd7-4ed0-a20d-b058dba1fc1a"
   },
   "outputs": [
    {
     "name": "stderr",
     "output_type": "stream",
     "text": [
      "/opt/anaconda3/envs/tf2/lib/python3.9/site-packages/xgboost/sklearn.py:1224: UserWarning: The use of label encoder in XGBClassifier is deprecated and will be removed in a future release. To remove this warning, do the following: 1) Pass option use_label_encoder=False when constructing XGBClassifier object; and 2) Encode your labels (y) as integers starting with 0, i.e. 0, 1, 2, ..., [num_class - 1].\n",
      "  warnings.warn(label_encoder_deprecation_msg, UserWarning)\n"
     ]
    },
    {
     "name": "stdout",
     "output_type": "stream",
     "text": [
      "[09:52:47] WARNING: /Users/runner/miniforge3/conda-bld/xgboost-split_1637426408905/work/src/learner.cc:1115: Starting in XGBoost 1.3.0, the default evaluation metric used with the objective 'binary:logistic' was changed from 'error' to 'logloss'. Explicitly set eval_metric if you'd like to restore the old behavior.\n"
     ]
    },
    {
     "name": "stderr",
     "output_type": "stream",
     "text": [
      "/opt/anaconda3/envs/tf2/lib/python3.9/site-packages/xgboost/sklearn.py:1224: UserWarning: The use of label encoder in XGBClassifier is deprecated and will be removed in a future release. To remove this warning, do the following: 1) Pass option use_label_encoder=False when constructing XGBClassifier object; and 2) Encode your labels (y) as integers starting with 0, i.e. 0, 1, 2, ..., [num_class - 1].\n",
      "  warnings.warn(label_encoder_deprecation_msg, UserWarning)\n"
     ]
    },
    {
     "name": "stdout",
     "output_type": "stream",
     "text": [
      "[09:53:14] WARNING: /Users/runner/miniforge3/conda-bld/xgboost-split_1637426408905/work/src/learner.cc:1115: Starting in XGBoost 1.3.0, the default evaluation metric used with the objective 'binary:logistic' was changed from 'error' to 'logloss'. Explicitly set eval_metric if you'd like to restore the old behavior.\n"
     ]
    },
    {
     "name": "stderr",
     "output_type": "stream",
     "text": [
      "/opt/anaconda3/envs/tf2/lib/python3.9/site-packages/xgboost/sklearn.py:1224: UserWarning: The use of label encoder in XGBClassifier is deprecated and will be removed in a future release. To remove this warning, do the following: 1) Pass option use_label_encoder=False when constructing XGBClassifier object; and 2) Encode your labels (y) as integers starting with 0, i.e. 0, 1, 2, ..., [num_class - 1].\n",
      "  warnings.warn(label_encoder_deprecation_msg, UserWarning)\n"
     ]
    },
    {
     "name": "stdout",
     "output_type": "stream",
     "text": [
      "[09:53:34] WARNING: /Users/runner/miniforge3/conda-bld/xgboost-split_1637426408905/work/src/learner.cc:1115: Starting in XGBoost 1.3.0, the default evaluation metric used with the objective 'binary:logistic' was changed from 'error' to 'logloss'. Explicitly set eval_metric if you'd like to restore the old behavior.\n"
     ]
    },
    {
     "name": "stderr",
     "output_type": "stream",
     "text": [
      "/opt/anaconda3/envs/tf2/lib/python3.9/site-packages/xgboost/sklearn.py:1224: UserWarning: The use of label encoder in XGBClassifier is deprecated and will be removed in a future release. To remove this warning, do the following: 1) Pass option use_label_encoder=False when constructing XGBClassifier object; and 2) Encode your labels (y) as integers starting with 0, i.e. 0, 1, 2, ..., [num_class - 1].\n",
      "  warnings.warn(label_encoder_deprecation_msg, UserWarning)\n"
     ]
    },
    {
     "name": "stdout",
     "output_type": "stream",
     "text": [
      "[09:53:55] WARNING: /Users/runner/miniforge3/conda-bld/xgboost-split_1637426408905/work/src/learner.cc:1115: Starting in XGBoost 1.3.0, the default evaluation metric used with the objective 'binary:logistic' was changed from 'error' to 'logloss'. Explicitly set eval_metric if you'd like to restore the old behavior.\n"
     ]
    },
    {
     "name": "stderr",
     "output_type": "stream",
     "text": [
      "/opt/anaconda3/envs/tf2/lib/python3.9/site-packages/xgboost/sklearn.py:1224: UserWarning: The use of label encoder in XGBClassifier is deprecated and will be removed in a future release. To remove this warning, do the following: 1) Pass option use_label_encoder=False when constructing XGBClassifier object; and 2) Encode your labels (y) as integers starting with 0, i.e. 0, 1, 2, ..., [num_class - 1].\n",
      "  warnings.warn(label_encoder_deprecation_msg, UserWarning)\n"
     ]
    },
    {
     "name": "stdout",
     "output_type": "stream",
     "text": [
      "[09:54:16] WARNING: /Users/runner/miniforge3/conda-bld/xgboost-split_1637426408905/work/src/learner.cc:1115: Starting in XGBoost 1.3.0, the default evaluation metric used with the objective 'binary:logistic' was changed from 'error' to 'logloss'. Explicitly set eval_metric if you'd like to restore the old behavior.\n"
     ]
    },
    {
     "name": "stderr",
     "output_type": "stream",
     "text": [
      "/opt/anaconda3/envs/tf2/lib/python3.9/site-packages/xgboost/sklearn.py:1224: UserWarning: The use of label encoder in XGBClassifier is deprecated and will be removed in a future release. To remove this warning, do the following: 1) Pass option use_label_encoder=False when constructing XGBClassifier object; and 2) Encode your labels (y) as integers starting with 0, i.e. 0, 1, 2, ..., [num_class - 1].\n",
      "  warnings.warn(label_encoder_deprecation_msg, UserWarning)\n"
     ]
    },
    {
     "name": "stdout",
     "output_type": "stream",
     "text": [
      "[09:54:38] WARNING: /Users/runner/miniforge3/conda-bld/xgboost-split_1637426408905/work/src/learner.cc:1115: Starting in XGBoost 1.3.0, the default evaluation metric used with the objective 'binary:logistic' was changed from 'error' to 'logloss'. Explicitly set eval_metric if you'd like to restore the old behavior.\n",
      "Cross Validation Score of XGBoosting classifier on training set: 0.663\n"
     ]
    }
   ],
   "source": [
    "import xgboost as xgb\n",
    "xgb_clf = xgb.XGBClassifier().fit(X_train_scaled, y_train)\n",
    "xgb_cv_score = cross_val_score(xgb_clf, X_train_scaled, y_train, cv=5)\n",
    "print('Cross Validation Score of XGBoosting classifier on training set: {:.3f}'\n",
    "      .format(xgb_cv_score.mean()))"
   ]
  },
  {
   "cell_type": "code",
   "execution_count": 54,
   "metadata": {
    "colab": {
     "base_uri": "https://localhost:8080/"
    },
    "id": "IuJPvCWBfOmi",
    "outputId": "eb35768a-af3b-4210-aac4-81c777be72fc"
   },
   "outputs": [
    {
     "name": "stderr",
     "output_type": "stream",
     "text": [
      "/opt/anaconda3/envs/tf2/lib/python3.9/site-packages/xgboost/sklearn.py:1224: UserWarning: The use of label encoder in XGBClassifier is deprecated and will be removed in a future release. To remove this warning, do the following: 1) Pass option use_label_encoder=False when constructing XGBClassifier object; and 2) Encode your labels (y) as integers starting with 0, i.e. 0, 1, 2, ..., [num_class - 1].\n",
      "  warnings.warn(label_encoder_deprecation_msg, UserWarning)\n"
     ]
    },
    {
     "name": "stdout",
     "output_type": "stream",
     "text": [
      "[09:55:08] WARNING: /Users/runner/miniforge3/conda-bld/xgboost-split_1637426408905/work/src/learner.cc:1115: Starting in XGBoost 1.3.0, the default evaluation metric used with the objective 'binary:logistic' was changed from 'error' to 'logloss'. Explicitly set eval_metric if you'd like to restore the old behavior.\n"
     ]
    },
    {
     "name": "stderr",
     "output_type": "stream",
     "text": [
      "/opt/anaconda3/envs/tf2/lib/python3.9/site-packages/xgboost/sklearn.py:1224: UserWarning: The use of label encoder in XGBClassifier is deprecated and will be removed in a future release. To remove this warning, do the following: 1) Pass option use_label_encoder=False when constructing XGBClassifier object; and 2) Encode your labels (y) as integers starting with 0, i.e. 0, 1, 2, ..., [num_class - 1].\n",
      "  warnings.warn(label_encoder_deprecation_msg, UserWarning)\n"
     ]
    },
    {
     "name": "stdout",
     "output_type": "stream",
     "text": [
      "[10:01:56] WARNING: /Users/runner/miniforge3/conda-bld/xgboost-split_1637426408905/work/src/learner.cc:1115: Starting in XGBoost 1.3.0, the default evaluation metric used with the objective 'binary:logistic' was changed from 'error' to 'logloss'. Explicitly set eval_metric if you'd like to restore the old behavior.\n"
     ]
    },
    {
     "name": "stderr",
     "output_type": "stream",
     "text": [
      "/opt/anaconda3/envs/tf2/lib/python3.9/site-packages/xgboost/sklearn.py:1224: UserWarning: The use of label encoder in XGBClassifier is deprecated and will be removed in a future release. To remove this warning, do the following: 1) Pass option use_label_encoder=False when constructing XGBClassifier object; and 2) Encode your labels (y) as integers starting with 0, i.e. 0, 1, 2, ..., [num_class - 1].\n",
      "  warnings.warn(label_encoder_deprecation_msg, UserWarning)\n"
     ]
    },
    {
     "name": "stdout",
     "output_type": "stream",
     "text": [
      "[10:07:22] WARNING: /Users/runner/miniforge3/conda-bld/xgboost-split_1637426408905/work/src/learner.cc:1115: Starting in XGBoost 1.3.0, the default evaluation metric used with the objective 'binary:logistic' was changed from 'error' to 'logloss'. Explicitly set eval_metric if you'd like to restore the old behavior.\n"
     ]
    },
    {
     "name": "stderr",
     "output_type": "stream",
     "text": [
      "/opt/anaconda3/envs/tf2/lib/python3.9/site-packages/xgboost/sklearn.py:1224: UserWarning: The use of label encoder in XGBClassifier is deprecated and will be removed in a future release. To remove this warning, do the following: 1) Pass option use_label_encoder=False when constructing XGBClassifier object; and 2) Encode your labels (y) as integers starting with 0, i.e. 0, 1, 2, ..., [num_class - 1].\n",
      "  warnings.warn(label_encoder_deprecation_msg, UserWarning)\n"
     ]
    },
    {
     "name": "stdout",
     "output_type": "stream",
     "text": [
      "[10:12:48] WARNING: /Users/runner/miniforge3/conda-bld/xgboost-split_1637426408905/work/src/learner.cc:1115: Starting in XGBoost 1.3.0, the default evaluation metric used with the objective 'binary:logistic' was changed from 'error' to 'logloss'. Explicitly set eval_metric if you'd like to restore the old behavior.\n"
     ]
    },
    {
     "name": "stderr",
     "output_type": "stream",
     "text": [
      "/opt/anaconda3/envs/tf2/lib/python3.9/site-packages/xgboost/sklearn.py:1224: UserWarning: The use of label encoder in XGBClassifier is deprecated and will be removed in a future release. To remove this warning, do the following: 1) Pass option use_label_encoder=False when constructing XGBClassifier object; and 2) Encode your labels (y) as integers starting with 0, i.e. 0, 1, 2, ..., [num_class - 1].\n",
      "  warnings.warn(label_encoder_deprecation_msg, UserWarning)\n"
     ]
    },
    {
     "name": "stdout",
     "output_type": "stream",
     "text": [
      "[10:18:15] WARNING: /Users/runner/miniforge3/conda-bld/xgboost-split_1637426408905/work/src/learner.cc:1115: Starting in XGBoost 1.3.0, the default evaluation metric used with the objective 'binary:logistic' was changed from 'error' to 'logloss'. Explicitly set eval_metric if you'd like to restore the old behavior.\n"
     ]
    },
    {
     "name": "stderr",
     "output_type": "stream",
     "text": [
      "/opt/anaconda3/envs/tf2/lib/python3.9/site-packages/xgboost/sklearn.py:1224: UserWarning: The use of label encoder in XGBClassifier is deprecated and will be removed in a future release. To remove this warning, do the following: 1) Pass option use_label_encoder=False when constructing XGBClassifier object; and 2) Encode your labels (y) as integers starting with 0, i.e. 0, 1, 2, ..., [num_class - 1].\n",
      "  warnings.warn(label_encoder_deprecation_msg, UserWarning)\n"
     ]
    },
    {
     "name": "stdout",
     "output_type": "stream",
     "text": [
      "[10:23:41] WARNING: /Users/runner/miniforge3/conda-bld/xgboost-split_1637426408905/work/src/learner.cc:1115: Starting in XGBoost 1.3.0, the default evaluation metric used with the objective 'binary:logistic' was changed from 'error' to 'logloss'. Explicitly set eval_metric if you'd like to restore the old behavior.\n",
      "Cross Validation Score of XGBoosting classifier on training set: 0.636\n"
     ]
    }
   ],
   "source": [
    "xgb_clf_tfidf = xgb.XGBClassifier().fit(tdidf_df_train, y_train)\n",
    "xgb_cv_score_tfidf = cross_val_score(xgb_clf_tfidf, tdidf_df_train, y_train, cv=5)\n",
    "print('Cross Validation Score of XGBoosting classifier on training set: {:.3f}'\n",
    "      .format(xgb_cv_score_tfidf.mean()))"
   ]
  },
  {
   "cell_type": "code",
   "execution_count": 55,
   "metadata": {
    "colab": {
     "base_uri": "https://localhost:8080/"
    },
    "id": "0iMGzRbifOpV",
    "outputId": "0b1c01b1-0618-4abe-a8c6-7b41ec5612de"
   },
   "outputs": [
    {
     "name": "stderr",
     "output_type": "stream",
     "text": [
      "/opt/anaconda3/envs/tf2/lib/python3.9/site-packages/xgboost/sklearn.py:1224: UserWarning: The use of label encoder in XGBClassifier is deprecated and will be removed in a future release. To remove this warning, do the following: 1) Pass option use_label_encoder=False when constructing XGBClassifier object; and 2) Encode your labels (y) as integers starting with 0, i.e. 0, 1, 2, ..., [num_class - 1].\n",
      "  warnings.warn(label_encoder_deprecation_msg, UserWarning)\n"
     ]
    },
    {
     "name": "stdout",
     "output_type": "stream",
     "text": [
      "[10:29:08] WARNING: /Users/runner/miniforge3/conda-bld/xgboost-split_1637426408905/work/src/learner.cc:1115: Starting in XGBoost 1.3.0, the default evaluation metric used with the objective 'binary:logistic' was changed from 'error' to 'logloss'. Explicitly set eval_metric if you'd like to restore the old behavior.\n"
     ]
    },
    {
     "name": "stderr",
     "output_type": "stream",
     "text": [
      "/opt/anaconda3/envs/tf2/lib/python3.9/site-packages/xgboost/sklearn.py:1224: UserWarning: The use of label encoder in XGBClassifier is deprecated and will be removed in a future release. To remove this warning, do the following: 1) Pass option use_label_encoder=False when constructing XGBClassifier object; and 2) Encode your labels (y) as integers starting with 0, i.e. 0, 1, 2, ..., [num_class - 1].\n",
      "  warnings.warn(label_encoder_deprecation_msg, UserWarning)\n"
     ]
    },
    {
     "name": "stdout",
     "output_type": "stream",
     "text": [
      "[10:36:16] WARNING: /Users/runner/miniforge3/conda-bld/xgboost-split_1637426408905/work/src/learner.cc:1115: Starting in XGBoost 1.3.0, the default evaluation metric used with the objective 'binary:logistic' was changed from 'error' to 'logloss'. Explicitly set eval_metric if you'd like to restore the old behavior.\n"
     ]
    },
    {
     "name": "stderr",
     "output_type": "stream",
     "text": [
      "/opt/anaconda3/envs/tf2/lib/python3.9/site-packages/xgboost/sklearn.py:1224: UserWarning: The use of label encoder in XGBClassifier is deprecated and will be removed in a future release. To remove this warning, do the following: 1) Pass option use_label_encoder=False when constructing XGBClassifier object; and 2) Encode your labels (y) as integers starting with 0, i.e. 0, 1, 2, ..., [num_class - 1].\n",
      "  warnings.warn(label_encoder_deprecation_msg, UserWarning)\n"
     ]
    },
    {
     "name": "stdout",
     "output_type": "stream",
     "text": [
      "[10:42:01] WARNING: /Users/runner/miniforge3/conda-bld/xgboost-split_1637426408905/work/src/learner.cc:1115: Starting in XGBoost 1.3.0, the default evaluation metric used with the objective 'binary:logistic' was changed from 'error' to 'logloss'. Explicitly set eval_metric if you'd like to restore the old behavior.\n"
     ]
    },
    {
     "name": "stderr",
     "output_type": "stream",
     "text": [
      "/opt/anaconda3/envs/tf2/lib/python3.9/site-packages/xgboost/sklearn.py:1224: UserWarning: The use of label encoder in XGBClassifier is deprecated and will be removed in a future release. To remove this warning, do the following: 1) Pass option use_label_encoder=False when constructing XGBClassifier object; and 2) Encode your labels (y) as integers starting with 0, i.e. 0, 1, 2, ..., [num_class - 1].\n",
      "  warnings.warn(label_encoder_deprecation_msg, UserWarning)\n"
     ]
    },
    {
     "name": "stdout",
     "output_type": "stream",
     "text": [
      "[10:47:57] WARNING: /Users/runner/miniforge3/conda-bld/xgboost-split_1637426408905/work/src/learner.cc:1115: Starting in XGBoost 1.3.0, the default evaluation metric used with the objective 'binary:logistic' was changed from 'error' to 'logloss'. Explicitly set eval_metric if you'd like to restore the old behavior.\n"
     ]
    },
    {
     "name": "stderr",
     "output_type": "stream",
     "text": [
      "/opt/anaconda3/envs/tf2/lib/python3.9/site-packages/xgboost/sklearn.py:1224: UserWarning: The use of label encoder in XGBClassifier is deprecated and will be removed in a future release. To remove this warning, do the following: 1) Pass option use_label_encoder=False when constructing XGBClassifier object; and 2) Encode your labels (y) as integers starting with 0, i.e. 0, 1, 2, ..., [num_class - 1].\n",
      "  warnings.warn(label_encoder_deprecation_msg, UserWarning)\n"
     ]
    },
    {
     "name": "stdout",
     "output_type": "stream",
     "text": [
      "[10:53:43] WARNING: /Users/runner/miniforge3/conda-bld/xgboost-split_1637426408905/work/src/learner.cc:1115: Starting in XGBoost 1.3.0, the default evaluation metric used with the objective 'binary:logistic' was changed from 'error' to 'logloss'. Explicitly set eval_metric if you'd like to restore the old behavior.\n"
     ]
    },
    {
     "name": "stderr",
     "output_type": "stream",
     "text": [
      "/opt/anaconda3/envs/tf2/lib/python3.9/site-packages/xgboost/sklearn.py:1224: UserWarning: The use of label encoder in XGBClassifier is deprecated and will be removed in a future release. To remove this warning, do the following: 1) Pass option use_label_encoder=False when constructing XGBClassifier object; and 2) Encode your labels (y) as integers starting with 0, i.e. 0, 1, 2, ..., [num_class - 1].\n",
      "  warnings.warn(label_encoder_deprecation_msg, UserWarning)\n"
     ]
    },
    {
     "name": "stdout",
     "output_type": "stream",
     "text": [
      "[10:59:26] WARNING: /Users/runner/miniforge3/conda-bld/xgboost-split_1637426408905/work/src/learner.cc:1115: Starting in XGBoost 1.3.0, the default evaluation metric used with the objective 'binary:logistic' was changed from 'error' to 'logloss'. Explicitly set eval_metric if you'd like to restore the old behavior.\n",
      "Cross Validation Score of XGBoosting classifier on training set: 0.684\n"
     ]
    }
   ],
   "source": [
    "xgb_clf_comb = xgb.XGBClassifier().fit(combined_X_train, y_train)\n",
    "xgb_cv_score_comb = cross_val_score(xgb_clf_comb, combined_X_train, y_train, cv=5)\n",
    "print('Cross Validation Score of XGBoosting classifier on training set: {:.3f}'\n",
    "      .format(xgb_cv_score_comb.mean()))"
   ]
  },
  {
   "cell_type": "markdown",
   "metadata": {},
   "source": [
    "### (10). Deep Learning"
   ]
  },
  {
   "cell_type": "markdown",
   "metadata": {},
   "source": [
    "#### (1) Combined Features"
   ]
  },
  {
   "cell_type": "code",
   "execution_count": 56,
   "metadata": {},
   "outputs": [],
   "source": [
    "from keras.models import Sequential\n",
    "from keras.layers import Embedding, Dense, LSTM, Flatten, SimpleRNN\n",
    "from keras import preprocessing\n",
    "import tensorflow as tf\n",
    "from keras import optimizers"
   ]
  },
  {
   "cell_type": "code",
   "execution_count": 57,
   "metadata": {},
   "outputs": [
    {
     "name": "stderr",
     "output_type": "stream",
     "text": [
      "2021-12-12 11:05:02.180466: I tensorflow/core/platform/cpu_feature_guard.cc:142] This TensorFlow binary is optimized with oneAPI Deep Neural Network Library (oneDNN) to use the following CPU instructions in performance-critical operations:  SSE4.1 SSE4.2 AVX AVX2 FMA\n",
      "To enable them in other operations, rebuild TensorFlow with the appropriate compiler flags.\n"
     ]
    }
   ],
   "source": [
    "dl = Sequential()\n",
    "dl.add(Dense(515, input_dim=515, activation='relu'))\n",
    "dl.add(Dense(800, activation='relu'))\n",
    "dl.add(Dense(400, activation='relu'))\n",
    "dl.add(Dense(218, activation='relu'))\n",
    "dl.add(Dense(1, activation='sigmoid'))\n",
    "dl.compile(optimizer=optimizers.Adam(learning_rate=0.001),\n",
    "           loss='binary_crossentropy',\n",
    "           metrics=['acc'])\n"
   ]
  },
  {
   "cell_type": "code",
   "execution_count": 58,
   "metadata": {
    "scrolled": false
   },
   "outputs": [
    {
     "name": "stdout",
     "output_type": "stream",
     "text": [
      "------------------------------------------------------------------------\n",
      "Training for fold 1 ...\n"
     ]
    },
    {
     "name": "stderr",
     "output_type": "stream",
     "text": [
      "2021-12-12 11:05:03.531010: I tensorflow/compiler/mlir/mlir_graph_optimization_pass.cc:116] None of the MLIR optimization passes are enabled (registered 2)\n"
     ]
    },
    {
     "name": "stdout",
     "output_type": "stream",
     "text": [
      "Epoch 1/10\n",
      "8857/8857 [==============================] - 51s 6ms/step - loss: 0.6061 - acc: 0.6561 - val_loss: 0.5870 - val_acc: 0.6710\n",
      "Epoch 2/10\n",
      "8857/8857 [==============================] - 49s 6ms/step - loss: 0.5789 - acc: 0.6780 - val_loss: 0.5812 - val_acc: 0.6754\n",
      "Epoch 3/10\n",
      "8857/8857 [==============================] - 50s 6ms/step - loss: 0.5656 - acc: 0.6910 - val_loss: 0.5819 - val_acc: 0.6779\n",
      "Epoch 4/10\n",
      "8857/8857 [==============================] - 48s 5ms/step - loss: 0.5536 - acc: 0.7007 - val_loss: 0.5875 - val_acc: 0.6796\n",
      "Epoch 5/10\n",
      "8857/8857 [==============================] - 50s 6ms/step - loss: 0.5364 - acc: 0.7138 - val_loss: 0.5863 - val_acc: 0.6762\n",
      "Epoch 6/10\n",
      "8857/8857 [==============================] - 49s 6ms/step - loss: 0.5208 - acc: 0.7253 - val_loss: 0.5953 - val_acc: 0.6734\n",
      "Epoch 7/10\n",
      "8857/8857 [==============================] - 49s 6ms/step - loss: 0.5024 - acc: 0.7372 - val_loss: 0.6097 - val_acc: 0.6691\n",
      "Epoch 8/10\n",
      "8857/8857 [==============================] - 49s 6ms/step - loss: 0.4849 - acc: 0.7486 - val_loss: 0.6373 - val_acc: 0.6685\n",
      "Epoch 9/10\n",
      "8857/8857 [==============================] - 49s 6ms/step - loss: 0.4693 - acc: 0.7587 - val_loss: 0.6467 - val_acc: 0.6634\n",
      "Epoch 10/10\n",
      "8857/8857 [==============================] - 49s 6ms/step - loss: 0.4503 - acc: 0.7687 - val_loss: 0.6881 - val_acc: 0.6655\n",
      "Score for fold 1: Accuracy of 0.7159033179283142; Loss of 0.5297939121723175\n",
      "------------------------------------------------------------------------\n",
      "Training for fold 2 ...\n",
      "Epoch 1/10\n",
      "11071/11071 [==============================] - 61s 6ms/step - loss: 0.4975 - acc: 0.7445 - val_loss: 0.4437 - val_acc: 0.7862\n",
      "Epoch 2/10\n",
      "11071/11071 [==============================] - 62s 6ms/step - loss: 0.4823 - acc: 0.7523 - val_loss: 0.4302 - val_acc: 0.7900\n",
      "Epoch 3/10\n",
      "11071/11071 [==============================] - 59s 5ms/step - loss: 0.4681 - acc: 0.7609 - val_loss: 0.4296 - val_acc: 0.7979\n",
      "Epoch 4/10\n",
      "11071/11071 [==============================] - 61s 6ms/step - loss: 0.4546 - acc: 0.7683 - val_loss: 0.4094 - val_acc: 0.8012\n",
      "Epoch 5/10\n",
      "11071/11071 [==============================] - 61s 6ms/step - loss: 0.4426 - acc: 0.7743 - val_loss: 0.3957 - val_acc: 0.8062\n",
      "Epoch 6/10\n",
      "11071/11071 [==============================] - 61s 6ms/step - loss: 0.4319 - acc: 0.7808 - val_loss: 0.3905 - val_acc: 0.8139\n",
      "Epoch 7/10\n",
      "11071/11071 [==============================] - 60s 5ms/step - loss: 0.4207 - acc: 0.7863 - val_loss: 0.3737 - val_acc: 0.8182\n",
      "Epoch 8/10\n",
      "11071/11071 [==============================] - 61s 6ms/step - loss: 0.4111 - acc: 0.7915 - val_loss: 0.3704 - val_acc: 0.8214\n",
      "Epoch 9/10\n",
      "11071/11071 [==============================] - 61s 6ms/step - loss: 0.4016 - acc: 0.7972 - val_loss: 0.3607 - val_acc: 0.8258\n",
      "Epoch 10/10\n",
      "11071/11071 [==============================] - 62s 6ms/step - loss: 0.3925 - acc: 0.8014 - val_loss: 0.3529 - val_acc: 0.8279\n",
      "Score for fold 2: Accuracy of 0.7757389485836029; Loss of 0.44029787480831145\n",
      "------------------------------------------------------------------------\n",
      "Training for fold 3 ...\n",
      "Epoch 1/10\n",
      "11071/11071 [==============================] - 60s 5ms/step - loss: 0.3842 - acc: 0.8064 - val_loss: 0.3506 - val_acc: 0.8293\n",
      "Epoch 2/10\n",
      "11071/11071 [==============================] - 60s 5ms/step - loss: 0.3774 - acc: 0.8097 - val_loss: 0.3385 - val_acc: 0.8338\n",
      "Epoch 3/10\n",
      "11071/11071 [==============================] - 61s 5ms/step - loss: 0.3695 - acc: 0.8141 - val_loss: 0.3403 - val_acc: 0.8349\n",
      "Epoch 4/10\n",
      "11071/11071 [==============================] - 61s 6ms/step - loss: 0.3629 - acc: 0.8176 - val_loss: 0.3298 - val_acc: 0.8417\n",
      "Epoch 5/10\n",
      "11071/11071 [==============================] - 62s 6ms/step - loss: 0.3574 - acc: 0.8209 - val_loss: 0.3292 - val_acc: 0.8427\n",
      "Epoch 6/10\n",
      "11071/11071 [==============================] - 60s 5ms/step - loss: 0.3526 - acc: 0.8241 - val_loss: 0.3183 - val_acc: 0.8461\n",
      "Epoch 7/10\n",
      "11071/11071 [==============================] - 61s 6ms/step - loss: 0.3448 - acc: 0.8277 - val_loss: 0.3118 - val_acc: 0.8486\n",
      "Epoch 8/10\n",
      "11071/11071 [==============================] - 61s 6ms/step - loss: 0.3400 - acc: 0.8299 - val_loss: 0.3072 - val_acc: 0.8498\n",
      "Epoch 9/10\n",
      "11071/11071 [==============================] - 62s 6ms/step - loss: 0.3399 - acc: 0.8331 - val_loss: 0.3053 - val_acc: 0.8508\n",
      "Epoch 10/10\n",
      "11071/11071 [==============================] - 61s 6ms/step - loss: 0.3295 - acc: 0.8363 - val_loss: 0.2946 - val_acc: 0.8565\n",
      "Score for fold 3: Accuracy of 0.8219739675521851; Loss of 0.3558082550764084\n",
      "------------------------------------------------------------------------\n",
      "Training for fold 4 ...\n",
      "Epoch 1/10\n",
      "11071/11071 [==============================] - 61s 6ms/step - loss: 0.3248 - acc: 0.8391 - val_loss: 0.2908 - val_acc: 0.8581\n",
      "Epoch 2/10\n",
      "11071/11071 [==============================] - 61s 6ms/step - loss: 0.3208 - acc: 0.8408 - val_loss: 0.2891 - val_acc: 0.8599\n",
      "Epoch 3/10\n",
      "11071/11071 [==============================] - 61s 6ms/step - loss: 0.3172 - acc: 0.8427 - val_loss: 0.2872 - val_acc: 0.8627\n",
      "Epoch 4/10\n",
      "11071/11071 [==============================] - 61s 6ms/step - loss: 0.3133 - acc: 0.8442 - val_loss: 0.2834 - val_acc: 0.8651\n",
      "Epoch 5/10\n",
      "11071/11071 [==============================] - 60s 5ms/step - loss: 0.3086 - acc: 0.8471 - val_loss: 0.2774 - val_acc: 0.8648A: 1s - loss:\n",
      "Epoch 6/10\n",
      "11071/11071 [==============================] - 61s 6ms/step - loss: 0.3056 - acc: 0.8491 - val_loss: 0.2714 - val_acc: 0.8683\n",
      "Epoch 7/10\n",
      "11071/11071 [==============================] - 61s 6ms/step - loss: 0.3026 - acc: 0.8505 - val_loss: 0.2704 - val_acc: 0.8688\n",
      "Epoch 8/10\n",
      "11071/11071 [==============================] - 59s 5ms/step - loss: 0.2996 - acc: 0.8526 - val_loss: 0.2684 - val_acc: 0.8705\n",
      "Epoch 9/10\n",
      "11071/11071 [==============================] - 61s 6ms/step - loss: 0.2968 - acc: 0.8544 - val_loss: 0.2618 - val_acc: 0.8746\n",
      "Epoch 10/10\n",
      "11071/11071 [==============================] - 60s 5ms/step - loss: 0.2916 - acc: 0.8563 - val_loss: 0.2676 - val_acc: 0.8705\n",
      "Score for fold 4: Accuracy of 0.8476958513259888; Loss of 0.30808015167713165\n",
      "------------------------------------------------------------------------\n",
      "Training for fold 5 ...\n",
      "Epoch 1/10\n",
      "8857/8857 [==============================] - 50s 6ms/step - loss: 0.2854 - acc: 0.8599 - val_loss: 0.3003 - val_acc: 0.8534\n",
      "Epoch 2/10\n",
      "8857/8857 [==============================] - 50s 6ms/step - loss: 0.2767 - acc: 0.8646 - val_loss: 0.3269 - val_acc: 0.8406\n",
      "Epoch 3/10\n",
      "8857/8857 [==============================] - 50s 6ms/step - loss: 0.2715 - acc: 0.8667 - val_loss: 0.3508 - val_acc: 0.8290\n",
      "Epoch 4/10\n",
      "8857/8857 [==============================] - 50s 6ms/step - loss: 0.2666 - acc: 0.8697 - val_loss: 0.3734 - val_acc: 0.8250\n",
      "Epoch 5/10\n",
      "8857/8857 [==============================] - 49s 6ms/step - loss: 0.2634 - acc: 0.8715 - val_loss: 0.4035 - val_acc: 0.8187\n",
      "Epoch 6/10\n",
      "8857/8857 [==============================] - 51s 6ms/step - loss: 0.2596 - acc: 0.8740 - val_loss: 0.4329 - val_acc: 0.8141\n",
      "Epoch 7/10\n",
      "8857/8857 [==============================] - 50s 6ms/step - loss: 0.2562 - acc: 0.8757 - val_loss: 0.4415 - val_acc: 0.8092\n",
      "Epoch 8/10\n",
      "8857/8857 [==============================] - 49s 6ms/step - loss: 0.2533 - acc: 0.8773 - val_loss: 0.4362 - val_acc: 0.8073\n",
      "Epoch 9/10\n",
      "8857/8857 [==============================] - 51s 6ms/step - loss: 0.2514 - acc: 0.8776 - val_loss: 0.4814 - val_acc: 0.8018\n",
      "Epoch 10/10\n",
      "8857/8857 [==============================] - 49s 6ms/step - loss: 0.2493 - acc: 0.8799 - val_loss: 0.4879 - val_acc: 0.7985\n",
      "Score for fold 5: Accuracy of 0.87169628739357; Loss of 0.26334343403577803\n"
     ]
    }
   ],
   "source": [
    "kf = KFold(n_splits = 5)\n",
    "acc = []\n",
    "val_acc = []\n",
    "loss = []\n",
    "val_loss = []\n",
    "fold_no = 1\n",
    "for train_idx, test_idx in kf.split(combined_X_train):\n",
    "    X_tra = combined_X_train[train_idx[0]:train_idx[len(train_idx)-1]]\n",
    "    X_vlid = combined_X_train[test_idx[0]:test_idx[len(test_idx)-1]]\n",
    "    y_tra = y_train[train_idx[0]:train_idx[len(train_idx)-1]]\n",
    "    y_vlid = y_train[test_idx[0]:test_idx[len(test_idx)-1]]\n",
    "    \n",
    "    X_tra = np.asarray(X_tra)\n",
    "    X_vlid = np.asarray(X_vlid)\n",
    "    y_tra = np.asarray(y_tra)\n",
    "    y_vlid = np.asarray(y_vlid)\n",
    "    \n",
    "    print('------------------------------------------------------------------------')\n",
    "    print(f'Training for fold {fold_no} ...')\n",
    "    \n",
    "    history = dl.fit(x=X_tra, y=y_tra, epochs=10, validation_data=(X_vlid, y_vlid))\n",
    "    accracy_perfold = statistics.mean(history.history['acc'])\n",
    "    loss_perfild = statistics.mean(history.history['loss'])\n",
    "    print(f'Score for fold {fold_no}: Accuracy of {accracy_perfold}; Loss of {loss_perfild}')\n",
    "    acc.append(statistics.mean(history.history['acc']))\n",
    "    val_acc.append(statistics.mean(history.history['val_acc']))\n",
    "    loss.append(statistics.mean(history.history['loss']))\n",
    "    val_loss.append(statistics.mean(history.history['val_loss']))\n",
    "    \n",
    "    fold_no = fold_no + 1"
   ]
  },
  {
   "cell_type": "code",
   "execution_count": 59,
   "metadata": {},
   "outputs": [
    {
     "name": "stdout",
     "output_type": "stream",
     "text": [
      "Cross Validation Score of Deep Learning classifier on Combined Features training set: 0.807\n"
     ]
    }
   ],
   "source": [
    "print('Cross Validation Score of Deep Learning classifier on Combined Features training set: {:.3f}'\n",
    "      .format(statistics.mean(acc)))"
   ]
  },
  {
   "cell_type": "markdown",
   "metadata": {
    "id": "RVYl_d3qVAS5"
   },
   "source": [
    "### (11). Result on Training Set Using 5 Fold Cross Validation"
   ]
  },
  {
   "cell_type": "markdown",
   "metadata": {},
   "source": [
    "| Molde/Accuracy | Dummy Classifier | Logistic Regression | KNN | Decision Tree | Random Forest | AdaBoost | XGBoost| Deep Learning |\n",
    "| --- | --- | --- | --- | --- | --- | --- | --- | --- |\n",
    "| Stats Features Based Acc | 0.500 | 0.638 | 0.640 | 0.654 | 0.701 | 0.644 | 0.663| NA |\n",
    "| Text Features Based Acc | 0.500 | 0.628 | 0.564 | 0.617 | 0.629 | 0.598 | 0.636 | NA |\n",
    "| Combined Features Acc | 0.500 | 0.667 | 0.603 | 0.666 | 0.709 | 0.658 | 0.684| 0.810 |\n"
   ]
  },
  {
   "cell_type": "markdown",
   "metadata": {
    "id": "aEVp37qf1BxK"
   },
   "source": [
    "# 4. Feature Analysis"
   ]
  },
  {
   "cell_type": "code",
   "execution_count": 62,
   "metadata": {},
   "outputs": [],
   "source": [
    "feature_names = X_train.columns.tolist()\n",
    "c_features = len(X_train.columns.tolist())"
   ]
  },
  {
   "cell_type": "code",
   "execution_count": 63,
   "metadata": {},
   "outputs": [
    {
     "data": {
      "image/png": "[encoded data removed]",
      "text/plain": [
       "<Figure size 720x504 with 1 Axes>"
      ]
     },
     "metadata": {
      "needs_background": "light"
     },
     "output_type": "display_data"
    }
   ],
   "source": [
    "plt.figure(figsize=(10,7))\n",
    "plt.barh(range(c_features), rf_clf.feature_importances_)\n",
    "plt.xlabel(\"Feature importance\")\n",
    "plt.ylabel(\"Feature name\")\n",
    "plt.yticks(np.arange(c_features), feature_names)\n",
    "plt.tight_layout()\n",
    "plt.show()"
   ]
  },
  {
   "cell_type": "markdown",
   "metadata": {
    "id": "uEL8XbQu1HeP"
   },
   "source": [
    "# 5. Best Model Accuracy on Test Set"
   ]
  },
  {
   "cell_type": "markdown",
   "metadata": {},
   "source": [
    "## (1). Deep Learning"
   ]
  },
  {
   "cell_type": "code",
   "execution_count": 65,
   "metadata": {},
   "outputs": [
    {
     "name": "stdout",
     "output_type": "stream",
     "text": [
      "Accuracy on test set is:  0.655\n"
     ]
    }
   ],
   "source": [
    "y_test_hat = dl.predict(combined_X_test)\n",
    "y_test_hat = y_test_hat.flatten().tolist()\n",
    "y_test_hat = [round(num) for num in y_test_hat]\n",
    "y_label = y_test.tolist()\n",
    "\n",
    "count = 0\n",
    "for i in range(len(y_test)):\n",
    "    if y_label[i] == y_test_hat[i]:\n",
    "        count += 1\n",
    "acc = count/len(y_test)\n",
    "\n",
    "print('Accuracy on test set is: ', round(acc, 3))"
   ]
  },
  {
   "cell_type": "code",
   "execution_count": 66,
   "metadata": {
    "scrolled": true
   },
   "outputs": [
    {
     "data": {
      "image/png": "[encoded data removed]",
      "text/plain": [
       "<Figure size 432x288 with 1 Axes>"
      ]
     },
     "metadata": {
      "needs_background": "light"
     },
     "output_type": "display_data"
    }
   ],
   "source": [
    "precision, recall, _ = precision_recall_curve(y_label, y_test_hat)\n",
    "disp = PrecisionRecallDisplay(precision=precision, recall=recall)\n",
    "disp.plot()\n",
    "plt.show()"
   ]
  },
  {
   "cell_type": "markdown",
   "metadata": {},
   "source": [
    "## (2). Random Forest"
   ]
  },
  {
   "cell_type": "code",
   "execution_count": 68,
   "metadata": {},
   "outputs": [
    {
     "name": "stdout",
     "output_type": "stream",
     "text": [
      "Accuracy on test set is:  0.715\n"
     ]
    }
   ],
   "source": [
    "y_pred_rf = rf_clf_comb.predict(combined_X_test)\n",
    "y_pred_rf = y_pred_rf.tolist()\n",
    "y_label = y_test.tolist()\n",
    "count = 0\n",
    "\n",
    "for i in range(len(y_label)):\n",
    "    if y_label[i] == y_pred_rf[i]:\n",
    "        count += 1\n",
    "\n",
    "acc = count/len(y_test)\n",
    "\n",
    "print('Accuracy on test set is: ', round(acc, 3))"
   ]
  },
  {
   "cell_type": "code",
   "execution_count": 69,
   "metadata": {},
   "outputs": [
    {
     "data": {
      "image/png": "[encoded data removed]",
      "text/plain": [
       "<Figure size 432x288 with 1 Axes>"
      ]
     },
     "metadata": {
      "needs_background": "light"
     },
     "output_type": "display_data"
    }
   ],
   "source": [
    "precision, recall, _ = precision_recall_curve(y_label, y_pred_rf)\n",
    "disp = PrecisionRecallDisplay(precision=precision, recall=recall)\n",
    "disp.plot()\n",
    "plt.show()"
   ]
  },
  {
   "cell_type": "markdown",
   "metadata": {},
   "source": [
    "# 6. Sensitivity Analysis\n"
   ]
  },
  {
   "cell_type": "code",
   "execution_count": 71,
   "metadata": {},
   "outputs": [
    {
     "name": "stderr",
     "output_type": "stream",
     "text": [
      "100%|████████████████████████████████████████████| 5/5 [14:40<00:00, 176.17s/it]\n"
     ]
    }
   ],
   "source": [
    "max_features = [3, 5, 7, 9, 12]\n",
    "socres = []\n",
    "for i in tqdm(max_features):\n",
    "    rf_clf = RandomForestClassifier(max_features=i).fit(X_train_scaled, y_train)\n",
    "    y_pred_rf = rf_clf.predict(X_test_scaled)\n",
    "    y_pred_rf = y_pred_rf.tolist()\n",
    "    y_label = y_test.tolist()\n",
    "    count = 0\n",
    "    for i in range(len(y_label)):\n",
    "        if y_label[i] == y_pred_rf[i]:\n",
    "            count += 1\n",
    "    acc = count/len(y_test)\n",
    "    socres.append(acc)"
   ]
  },
  {
   "cell_type": "code",
   "execution_count": 72,
   "metadata": {},
   "outputs": [
    {
     "data": {
      "text/plain": [
       "Text(0.5, 1.0, 'Accuracy of Different max_features')"
      ]
     },
     "execution_count": 72,
     "metadata": {},
     "output_type": "execute_result"
    },
    {
     "data": {
      "image/png": "[encoded data removed]",
      "text/plain": [
       "<Figure size 432x288 with 1 Axes>"
      ]
     },
     "metadata": {
      "needs_background": "light"
     },
     "output_type": "display_data"
    }
   ],
   "source": [
    "plt.plot(max_features, socres, marker='o', color='b')\n",
    "plt.title('Accuracy of Different max_features')"
   ]
  },
  {
   "cell_type": "markdown",
   "metadata": {
    "id": "oPdgyAgS1NMh"
   },
   "source": [
    "# 7. Prediction"
   ]
  },
  {
   "cell_type": "code",
   "execution_count": 73,
   "metadata": {
    "id": "arp75ks51FZD"
   },
   "outputs": [],
   "source": [
    "y_pred = rf_clf_comb.predict(combined_X_pred)"
   ]
  },
  {
   "cell_type": "code",
   "execution_count": 74,
   "metadata": {},
   "outputs": [],
   "source": [
    "result = pd.read_csv('WikiLarge_Test.csv')\n",
    "result['label'] = y_pred\n",
    "result = result.drop(columns=['original_text'])"
   ]
  },
  {
   "cell_type": "code",
   "execution_count": 75,
   "metadata": {},
   "outputs": [],
   "source": [
    "result.to_csv('result.csv', index=False)"
   ]
  },
  {
   "cell_type": "markdown",
   "metadata": {},
   "source": [
    "# 8. Failure Analysis"
   ]
  },
  {
   "cell_type": "code",
   "execution_count": 76,
   "metadata": {},
   "outputs": [],
   "source": [
    "y_pred_rf_df = pd.DataFrame(data={'y_hat': y_pred_rf})\n",
    "y_pred_rf_df.reset_index(drop=True, inplace=True)\n",
    "\n",
    "text = pd.DataFrame(data={'text': X_test_text})\n",
    "text.reset_index(drop=True, inplace=True)\n",
    "\n",
    "num_feature = X_test.copy()\n",
    "\n",
    "label_df = pd.DataFrame(data={'label': y_test})\n",
    "label_df.reset_index(drop=True, inplace=True)\n",
    "\n",
    "analysis = pd.concat([text, num_feature, label_df, y_pred_rf_df], axis=1)"
   ]
  },
  {
   "cell_type": "code",
   "execution_count": 77,
   "metadata": {},
   "outputs": [
    {
     "data": {
      "text/html": [
       "<div>\n",
       "<style scoped>\n",
       "    .dataframe tbody tr th:only-of-type {\n",
       "        vertical-align: middle;\n",
       "    }\n",
       "\n",
       "    .dataframe tbody tr th {\n",
       "        vertical-align: top;\n",
       "    }\n",
       "\n",
       "    .dataframe thead th {\n",
       "        text-align: right;\n",
       "    }\n",
       "</style>\n",
       "<table border=\"1\" class=\"dataframe\">\n",
       "  <thead>\n",
       "    <tr style=\"text-align: right;\">\n",
       "      <th></th>\n",
       "      <th>text</th>\n",
       "      <th>char_count</th>\n",
       "      <th>word_count</th>\n",
       "      <th>word_density</th>\n",
       "      <th>noun_count</th>\n",
       "      <th>verb_count</th>\n",
       "      <th>adj_count</th>\n",
       "      <th>adv_count</th>\n",
       "      <th>simp_word_percent</th>\n",
       "      <th>stop_word_percent</th>\n",
       "      <th>age</th>\n",
       "      <th>percent_know</th>\n",
       "      <th>concreteness</th>\n",
       "      <th>num</th>\n",
       "      <th>top100</th>\n",
       "      <th>least1000</th>\n",
       "      <th>label</th>\n",
       "      <th>y_hat</th>\n",
       "    </tr>\n",
       "  </thead>\n",
       "  <tbody>\n",
       "    <tr>\n",
       "      <th>0</th>\n",
       "      <td>yarra trams fleet consists 500 trams operated ...</td>\n",
       "      <td>100</td>\n",
       "      <td>100</td>\n",
       "      <td>0.990099</td>\n",
       "      <td>5</td>\n",
       "      <td>3</td>\n",
       "      <td>1</td>\n",
       "      <td>0</td>\n",
       "      <td>0.375000</td>\n",
       "      <td>0.235294</td>\n",
       "      <td>7.622068</td>\n",
       "      <td>0.966710</td>\n",
       "      <td>2.793367</td>\n",
       "      <td>0.062500</td>\n",
       "      <td>2</td>\n",
       "      <td>0</td>\n",
       "      <td>0</td>\n",
       "      <td>1</td>\n",
       "    </tr>\n",
       "    <tr>\n",
       "      <th>1</th>\n",
       "      <td>still life concept album explained åkerfeldt m...</td>\n",
       "      <td>190</td>\n",
       "      <td>190</td>\n",
       "      <td>0.994764</td>\n",
       "      <td>9</td>\n",
       "      <td>8</td>\n",
       "      <td>2</td>\n",
       "      <td>1</td>\n",
       "      <td>0.685714</td>\n",
       "      <td>0.500000</td>\n",
       "      <td>5.802704</td>\n",
       "      <td>0.991744</td>\n",
       "      <td>2.320610</td>\n",
       "      <td>0.000000</td>\n",
       "      <td>2</td>\n",
       "      <td>0</td>\n",
       "      <td>1</td>\n",
       "      <td>0</td>\n",
       "    </tr>\n",
       "    <tr>\n",
       "      <th>2</th>\n",
       "      <td>romana short romanadvoratrelundar fictional ch...</td>\n",
       "      <td>125</td>\n",
       "      <td>125</td>\n",
       "      <td>0.992063</td>\n",
       "      <td>8</td>\n",
       "      <td>1</td>\n",
       "      <td>3</td>\n",
       "      <td>0</td>\n",
       "      <td>0.411765</td>\n",
       "      <td>0.333333</td>\n",
       "      <td>6.237920</td>\n",
       "      <td>0.983002</td>\n",
       "      <td>2.704635</td>\n",
       "      <td>0.000000</td>\n",
       "      <td>2</td>\n",
       "      <td>0</td>\n",
       "      <td>0</td>\n",
       "      <td>1</td>\n",
       "    </tr>\n",
       "    <tr>\n",
       "      <th>3</th>\n",
       "      <td>minor scale music theory scale least three sca...</td>\n",
       "      <td>164</td>\n",
       "      <td>164</td>\n",
       "      <td>0.993939</td>\n",
       "      <td>8</td>\n",
       "      <td>3</td>\n",
       "      <td>6</td>\n",
       "      <td>0</td>\n",
       "      <td>0.548387</td>\n",
       "      <td>0.437500</td>\n",
       "      <td>6.475534</td>\n",
       "      <td>0.992054</td>\n",
       "      <td>2.714073</td>\n",
       "      <td>0.000000</td>\n",
       "      <td>3</td>\n",
       "      <td>0</td>\n",
       "      <td>0</td>\n",
       "      <td>1</td>\n",
       "    </tr>\n",
       "    <tr>\n",
       "      <th>4</th>\n",
       "      <td>show also created character frasier crane</td>\n",
       "      <td>50</td>\n",
       "      <td>50</td>\n",
       "      <td>0.980392</td>\n",
       "      <td>4</td>\n",
       "      <td>1</td>\n",
       "      <td>0</td>\n",
       "      <td>1</td>\n",
       "      <td>0.500000</td>\n",
       "      <td>0.222222</td>\n",
       "      <td>6.440193</td>\n",
       "      <td>0.987960</td>\n",
       "      <td>2.792817</td>\n",
       "      <td>0.000000</td>\n",
       "      <td>1</td>\n",
       "      <td>0</td>\n",
       "      <td>0</td>\n",
       "      <td>1</td>\n",
       "    </tr>\n",
       "    <tr>\n",
       "      <th>...</th>\n",
       "      <td>...</td>\n",
       "      <td>...</td>\n",
       "      <td>...</td>\n",
       "      <td>...</td>\n",
       "      <td>...</td>\n",
       "      <td>...</td>\n",
       "      <td>...</td>\n",
       "      <td>...</td>\n",
       "      <td>...</td>\n",
       "      <td>...</td>\n",
       "      <td>...</td>\n",
       "      <td>...</td>\n",
       "      <td>...</td>\n",
       "      <td>...</td>\n",
       "      <td>...</td>\n",
       "      <td>...</td>\n",
       "      <td>...</td>\n",
       "      <td>...</td>\n",
       "    </tr>\n",
       "    <tr>\n",
       "      <th>62507</th>\n",
       "      <td>time death still october 2008 sixth oldest per...</td>\n",
       "      <td>181</td>\n",
       "      <td>181</td>\n",
       "      <td>0.994505</td>\n",
       "      <td>10</td>\n",
       "      <td>4</td>\n",
       "      <td>5</td>\n",
       "      <td>1</td>\n",
       "      <td>0.735294</td>\n",
       "      <td>0.428571</td>\n",
       "      <td>6.093848</td>\n",
       "      <td>0.977228</td>\n",
       "      <td>2.675188</td>\n",
       "      <td>0.029412</td>\n",
       "      <td>5</td>\n",
       "      <td>0</td>\n",
       "      <td>0</td>\n",
       "      <td>1</td>\n",
       "    </tr>\n",
       "    <tr>\n",
       "      <th>62509</th>\n",
       "      <td>made number materials including ceramics glass</td>\n",
       "      <td>71</td>\n",
       "      <td>71</td>\n",
       "      <td>0.986111</td>\n",
       "      <td>4</td>\n",
       "      <td>4</td>\n",
       "      <td>0</td>\n",
       "      <td>0</td>\n",
       "      <td>0.692308</td>\n",
       "      <td>0.500000</td>\n",
       "      <td>5.310769</td>\n",
       "      <td>0.987692</td>\n",
       "      <td>2.852308</td>\n",
       "      <td>0.000000</td>\n",
       "      <td>3</td>\n",
       "      <td>0</td>\n",
       "      <td>1</td>\n",
       "      <td>0</td>\n",
       "    </tr>\n",
       "    <tr>\n",
       "      <th>62510</th>\n",
       "      <td>un secretary general thant began serving actin...</td>\n",
       "      <td>243</td>\n",
       "      <td>243</td>\n",
       "      <td>0.995902</td>\n",
       "      <td>10</td>\n",
       "      <td>6</td>\n",
       "      <td>3</td>\n",
       "      <td>3</td>\n",
       "      <td>0.540541</td>\n",
       "      <td>0.342105</td>\n",
       "      <td>7.195199</td>\n",
       "      <td>0.959715</td>\n",
       "      <td>2.577369</td>\n",
       "      <td>0.054054</td>\n",
       "      <td>2</td>\n",
       "      <td>0</td>\n",
       "      <td>0</td>\n",
       "      <td>1</td>\n",
       "    </tr>\n",
       "    <tr>\n",
       "      <th>62512</th>\n",
       "      <td>keynes brother sir geoffrey keynes lrb 1887 19...</td>\n",
       "      <td>108</td>\n",
       "      <td>108</td>\n",
       "      <td>0.990826</td>\n",
       "      <td>9</td>\n",
       "      <td>3</td>\n",
       "      <td>0</td>\n",
       "      <td>0</td>\n",
       "      <td>0.235294</td>\n",
       "      <td>0.166667</td>\n",
       "      <td>8.870909</td>\n",
       "      <td>0.940400</td>\n",
       "      <td>3.003098</td>\n",
       "      <td>0.117647</td>\n",
       "      <td>3</td>\n",
       "      <td>0</td>\n",
       "      <td>0</td>\n",
       "      <td>1</td>\n",
       "    </tr>\n",
       "    <tr>\n",
       "      <th>62513</th>\n",
       "      <td>openwheel cars usually built racing often high...</td>\n",
       "      <td>151</td>\n",
       "      <td>151</td>\n",
       "      <td>0.993421</td>\n",
       "      <td>7</td>\n",
       "      <td>4</td>\n",
       "      <td>3</td>\n",
       "      <td>3</td>\n",
       "      <td>0.583333</td>\n",
       "      <td>0.440000</td>\n",
       "      <td>6.099295</td>\n",
       "      <td>0.989890</td>\n",
       "      <td>2.639844</td>\n",
       "      <td>0.000000</td>\n",
       "      <td>1</td>\n",
       "      <td>0</td>\n",
       "      <td>0</td>\n",
       "      <td>1</td>\n",
       "    </tr>\n",
       "  </tbody>\n",
       "</table>\n",
       "<p>18324 rows × 18 columns</p>\n",
       "</div>"
      ],
      "text/plain": [
       "                                                    text  char_count  \\\n",
       "0      yarra trams fleet consists 500 trams operated ...         100   \n",
       "1      still life concept album explained åkerfeldt m...         190   \n",
       "2      romana short romanadvoratrelundar fictional ch...         125   \n",
       "3      minor scale music theory scale least three sca...         164   \n",
       "4              show also created character frasier crane          50   \n",
       "...                                                  ...         ...   \n",
       "62507  time death still october 2008 sixth oldest per...         181   \n",
       "62509     made number materials including ceramics glass          71   \n",
       "62510  un secretary general thant began serving actin...         243   \n",
       "62512  keynes brother sir geoffrey keynes lrb 1887 19...         108   \n",
       "62513  openwheel cars usually built racing often high...         151   \n",
       "\n",
       "       word_count  word_density  noun_count  verb_count  adj_count  adv_count  \\\n",
       "0             100      0.990099           5           3          1          0   \n",
       "1             190      0.994764           9           8          2          1   \n",
       "2             125      0.992063           8           1          3          0   \n",
       "3             164      0.993939           8           3          6          0   \n",
       "4              50      0.980392           4           1          0          1   \n",
       "...           ...           ...         ...         ...        ...        ...   \n",
       "62507         181      0.994505          10           4          5          1   \n",
       "62509          71      0.986111           4           4          0          0   \n",
       "62510         243      0.995902          10           6          3          3   \n",
       "62512         108      0.990826           9           3          0          0   \n",
       "62513         151      0.993421           7           4          3          3   \n",
       "\n",
       "       simp_word_percent  stop_word_percent       age  percent_know  \\\n",
       "0               0.375000           0.235294  7.622068      0.966710   \n",
       "1               0.685714           0.500000  5.802704      0.991744   \n",
       "2               0.411765           0.333333  6.237920      0.983002   \n",
       "3               0.548387           0.437500  6.475534      0.992054   \n",
       "4               0.500000           0.222222  6.440193      0.987960   \n",
       "...                  ...                ...       ...           ...   \n",
       "62507           0.735294           0.428571  6.093848      0.977228   \n",
       "62509           0.692308           0.500000  5.310769      0.987692   \n",
       "62510           0.540541           0.342105  7.195199      0.959715   \n",
       "62512           0.235294           0.166667  8.870909      0.940400   \n",
       "62513           0.583333           0.440000  6.099295      0.989890   \n",
       "\n",
       "       concreteness       num  top100  least1000  label  y_hat  \n",
       "0          2.793367  0.062500       2          0      0      1  \n",
       "1          2.320610  0.000000       2          0      1      0  \n",
       "2          2.704635  0.000000       2          0      0      1  \n",
       "3          2.714073  0.000000       3          0      0      1  \n",
       "4          2.792817  0.000000       1          0      0      1  \n",
       "...             ...       ...     ...        ...    ...    ...  \n",
       "62507      2.675188  0.029412       5          0      0      1  \n",
       "62509      2.852308  0.000000       3          0      1      0  \n",
       "62510      2.577369  0.054054       2          0      0      1  \n",
       "62512      3.003098  0.117647       3          0      0      1  \n",
       "62513      2.639844  0.000000       1          0      0      1  \n",
       "\n",
       "[18324 rows x 18 columns]"
      ]
     },
     "execution_count": 77,
     "metadata": {},
     "output_type": "execute_result"
    }
   ],
   "source": [
    "fauilre = analysis.loc[analysis['label']!=analysis['y_hat']]\n",
    "fauilre"
   ]
  },
  {
   "cell_type": "code",
   "execution_count": 78,
   "metadata": {},
   "outputs": [
    {
     "data": {
      "text/html": [
       "<div>\n",
       "<style scoped>\n",
       "    .dataframe tbody tr th:only-of-type {\n",
       "        vertical-align: middle;\n",
       "    }\n",
       "\n",
       "    .dataframe tbody tr th {\n",
       "        vertical-align: top;\n",
       "    }\n",
       "\n",
       "    .dataframe thead th {\n",
       "        text-align: right;\n",
       "    }\n",
       "</style>\n",
       "<table border=\"1\" class=\"dataframe\">\n",
       "  <thead>\n",
       "    <tr style=\"text-align: right;\">\n",
       "      <th></th>\n",
       "      <th>text</th>\n",
       "      <th>char_count</th>\n",
       "      <th>word_count</th>\n",
       "      <th>word_density</th>\n",
       "      <th>noun_count</th>\n",
       "      <th>verb_count</th>\n",
       "      <th>adj_count</th>\n",
       "      <th>adv_count</th>\n",
       "      <th>simp_word_percent</th>\n",
       "      <th>stop_word_percent</th>\n",
       "      <th>age</th>\n",
       "      <th>percent_know</th>\n",
       "      <th>concreteness</th>\n",
       "      <th>num</th>\n",
       "      <th>top100</th>\n",
       "      <th>least1000</th>\n",
       "      <th>label</th>\n",
       "      <th>y_hat</th>\n",
       "    </tr>\n",
       "  </thead>\n",
       "  <tbody>\n",
       "    <tr>\n",
       "      <th>58001</th>\n",
       "      <td></td>\n",
       "      <td>0</td>\n",
       "      <td>0</td>\n",
       "      <td>0.000000</td>\n",
       "      <td>0</td>\n",
       "      <td>0</td>\n",
       "      <td>0</td>\n",
       "      <td>0</td>\n",
       "      <td>-1.000000</td>\n",
       "      <td>0.000000</td>\n",
       "      <td>10.361546</td>\n",
       "      <td>0.903680</td>\n",
       "      <td>3.036267</td>\n",
       "      <td>0.000000</td>\n",
       "      <td>0</td>\n",
       "      <td>0</td>\n",
       "      <td>1</td>\n",
       "      <td>0</td>\n",
       "    </tr>\n",
       "    <tr>\n",
       "      <th>26169</th>\n",
       "      <td></td>\n",
       "      <td>0</td>\n",
       "      <td>0</td>\n",
       "      <td>0.000000</td>\n",
       "      <td>0</td>\n",
       "      <td>0</td>\n",
       "      <td>0</td>\n",
       "      <td>0</td>\n",
       "      <td>-1.000000</td>\n",
       "      <td>0.000000</td>\n",
       "      <td>10.361546</td>\n",
       "      <td>0.903680</td>\n",
       "      <td>3.036267</td>\n",
       "      <td>0.000000</td>\n",
       "      <td>0</td>\n",
       "      <td>0</td>\n",
       "      <td>1</td>\n",
       "      <td>0</td>\n",
       "    </tr>\n",
       "    <tr>\n",
       "      <th>19411</th>\n",
       "      <td></td>\n",
       "      <td>0</td>\n",
       "      <td>0</td>\n",
       "      <td>0.000000</td>\n",
       "      <td>0</td>\n",
       "      <td>0</td>\n",
       "      <td>0</td>\n",
       "      <td>0</td>\n",
       "      <td>-1.000000</td>\n",
       "      <td>0.000000</td>\n",
       "      <td>10.361546</td>\n",
       "      <td>0.903680</td>\n",
       "      <td>3.036267</td>\n",
       "      <td>0.000000</td>\n",
       "      <td>0</td>\n",
       "      <td>0</td>\n",
       "      <td>1</td>\n",
       "      <td>0</td>\n",
       "    </tr>\n",
       "    <tr>\n",
       "      <th>29407</th>\n",
       "      <td></td>\n",
       "      <td>0</td>\n",
       "      <td>0</td>\n",
       "      <td>0.000000</td>\n",
       "      <td>0</td>\n",
       "      <td>0</td>\n",
       "      <td>0</td>\n",
       "      <td>0</td>\n",
       "      <td>-1.000000</td>\n",
       "      <td>0.000000</td>\n",
       "      <td>10.361546</td>\n",
       "      <td>0.903680</td>\n",
       "      <td>3.036267</td>\n",
       "      <td>0.000000</td>\n",
       "      <td>0</td>\n",
       "      <td>0</td>\n",
       "      <td>1</td>\n",
       "      <td>0</td>\n",
       "    </tr>\n",
       "    <tr>\n",
       "      <th>37433</th>\n",
       "      <td></td>\n",
       "      <td>0</td>\n",
       "      <td>0</td>\n",
       "      <td>0.000000</td>\n",
       "      <td>0</td>\n",
       "      <td>0</td>\n",
       "      <td>0</td>\n",
       "      <td>0</td>\n",
       "      <td>-1.000000</td>\n",
       "      <td>0.000000</td>\n",
       "      <td>10.361546</td>\n",
       "      <td>0.903680</td>\n",
       "      <td>3.036267</td>\n",
       "      <td>0.000000</td>\n",
       "      <td>0</td>\n",
       "      <td>0</td>\n",
       "      <td>1</td>\n",
       "      <td>0</td>\n",
       "    </tr>\n",
       "    <tr>\n",
       "      <th>14295</th>\n",
       "      <td></td>\n",
       "      <td>0</td>\n",
       "      <td>0</td>\n",
       "      <td>0.000000</td>\n",
       "      <td>0</td>\n",
       "      <td>0</td>\n",
       "      <td>0</td>\n",
       "      <td>0</td>\n",
       "      <td>-1.000000</td>\n",
       "      <td>0.000000</td>\n",
       "      <td>10.361546</td>\n",
       "      <td>0.903680</td>\n",
       "      <td>3.036267</td>\n",
       "      <td>0.000000</td>\n",
       "      <td>0</td>\n",
       "      <td>0</td>\n",
       "      <td>1</td>\n",
       "      <td>0</td>\n",
       "    </tr>\n",
       "    <tr>\n",
       "      <th>10850</th>\n",
       "      <td></td>\n",
       "      <td>0</td>\n",
       "      <td>0</td>\n",
       "      <td>0.000000</td>\n",
       "      <td>0</td>\n",
       "      <td>0</td>\n",
       "      <td>0</td>\n",
       "      <td>0</td>\n",
       "      <td>-1.000000</td>\n",
       "      <td>0.000000</td>\n",
       "      <td>10.361546</td>\n",
       "      <td>0.903680</td>\n",
       "      <td>3.036267</td>\n",
       "      <td>0.000000</td>\n",
       "      <td>0</td>\n",
       "      <td>0</td>\n",
       "      <td>1</td>\n",
       "      <td>0</td>\n",
       "    </tr>\n",
       "    <tr>\n",
       "      <th>52551</th>\n",
       "      <td></td>\n",
       "      <td>0</td>\n",
       "      <td>0</td>\n",
       "      <td>0.000000</td>\n",
       "      <td>0</td>\n",
       "      <td>0</td>\n",
       "      <td>0</td>\n",
       "      <td>0</td>\n",
       "      <td>-1.000000</td>\n",
       "      <td>0.000000</td>\n",
       "      <td>10.361546</td>\n",
       "      <td>0.903680</td>\n",
       "      <td>3.036267</td>\n",
       "      <td>0.000000</td>\n",
       "      <td>0</td>\n",
       "      <td>0</td>\n",
       "      <td>1</td>\n",
       "      <td>0</td>\n",
       "    </tr>\n",
       "    <tr>\n",
       "      <th>22075</th>\n",
       "      <td></td>\n",
       "      <td>0</td>\n",
       "      <td>0</td>\n",
       "      <td>0.000000</td>\n",
       "      <td>0</td>\n",
       "      <td>0</td>\n",
       "      <td>0</td>\n",
       "      <td>0</td>\n",
       "      <td>-1.000000</td>\n",
       "      <td>0.000000</td>\n",
       "      <td>10.361546</td>\n",
       "      <td>0.903680</td>\n",
       "      <td>3.036267</td>\n",
       "      <td>0.000000</td>\n",
       "      <td>0</td>\n",
       "      <td>0</td>\n",
       "      <td>1</td>\n",
       "      <td>0</td>\n",
       "    </tr>\n",
       "    <tr>\n",
       "      <th>46353</th>\n",
       "      <td>10243 kg neptune mass puts planet earth larges...</td>\n",
       "      <td>156</td>\n",
       "      <td>156</td>\n",
       "      <td>0.993631</td>\n",
       "      <td>11</td>\n",
       "      <td>2</td>\n",
       "      <td>4</td>\n",
       "      <td>1</td>\n",
       "      <td>0.500000</td>\n",
       "      <td>0.344828</td>\n",
       "      <td>7.137640</td>\n",
       "      <td>0.965469</td>\n",
       "      <td>2.926300</td>\n",
       "      <td>0.035714</td>\n",
       "      <td>1</td>\n",
       "      <td>0</td>\n",
       "      <td>0</td>\n",
       "      <td>1</td>\n",
       "    </tr>\n",
       "    <tr>\n",
       "      <th>29784</th>\n",
       "      <td>113115 titsingh isaac</td>\n",
       "      <td>24</td>\n",
       "      <td>24</td>\n",
       "      <td>0.960000</td>\n",
       "      <td>2</td>\n",
       "      <td>0</td>\n",
       "      <td>0</td>\n",
       "      <td>0</td>\n",
       "      <td>0.000000</td>\n",
       "      <td>0.000000</td>\n",
       "      <td>10.361546</td>\n",
       "      <td>0.903680</td>\n",
       "      <td>3.036267</td>\n",
       "      <td>0.333333</td>\n",
       "      <td>0</td>\n",
       "      <td>0</td>\n",
       "      <td>1</td>\n",
       "      <td>0</td>\n",
       "    </tr>\n",
       "    <tr>\n",
       "      <th>42343</th>\n",
       "      <td>1194 inches303 3 mm fell miller became wettest...</td>\n",
       "      <td>159</td>\n",
       "      <td>159</td>\n",
       "      <td>0.993750</td>\n",
       "      <td>8</td>\n",
       "      <td>3</td>\n",
       "      <td>3</td>\n",
       "      <td>0</td>\n",
       "      <td>0.444444</td>\n",
       "      <td>0.321429</td>\n",
       "      <td>6.739660</td>\n",
       "      <td>0.971325</td>\n",
       "      <td>2.704820</td>\n",
       "      <td>0.111111</td>\n",
       "      <td>2</td>\n",
       "      <td>0</td>\n",
       "      <td>1</td>\n",
       "      <td>0</td>\n",
       "    </tr>\n",
       "    <tr>\n",
       "      <th>33825</th>\n",
       "      <td>1891 new immigration depot opened ellis island...</td>\n",
       "      <td>66</td>\n",
       "      <td>66</td>\n",
       "      <td>0.985075</td>\n",
       "      <td>4</td>\n",
       "      <td>3</td>\n",
       "      <td>2</td>\n",
       "      <td>0</td>\n",
       "      <td>0.416667</td>\n",
       "      <td>0.230769</td>\n",
       "      <td>7.223720</td>\n",
       "      <td>0.975920</td>\n",
       "      <td>3.016256</td>\n",
       "      <td>0.083333</td>\n",
       "      <td>3</td>\n",
       "      <td>0</td>\n",
       "      <td>0</td>\n",
       "      <td>1</td>\n",
       "    </tr>\n",
       "    <tr>\n",
       "      <th>35708</th>\n",
       "      <td>1913 chadwick went worked hans geiger technica...</td>\n",
       "      <td>88</td>\n",
       "      <td>88</td>\n",
       "      <td>0.988764</td>\n",
       "      <td>4</td>\n",
       "      <td>3</td>\n",
       "      <td>1</td>\n",
       "      <td>0</td>\n",
       "      <td>0.466667</td>\n",
       "      <td>0.375000</td>\n",
       "      <td>7.168515</td>\n",
       "      <td>0.961227</td>\n",
       "      <td>2.571422</td>\n",
       "      <td>0.066667</td>\n",
       "      <td>1</td>\n",
       "      <td>0</td>\n",
       "      <td>1</td>\n",
       "      <td>0</td>\n",
       "    </tr>\n",
       "    <tr>\n",
       "      <th>18585</th>\n",
       "      <td>1925 sammy drechsel journalist film director c...</td>\n",
       "      <td>81</td>\n",
       "      <td>81</td>\n",
       "      <td>0.987805</td>\n",
       "      <td>6</td>\n",
       "      <td>1</td>\n",
       "      <td>2</td>\n",
       "      <td>0</td>\n",
       "      <td>0.250000</td>\n",
       "      <td>0.076923</td>\n",
       "      <td>8.932568</td>\n",
       "      <td>0.939647</td>\n",
       "      <td>3.216678</td>\n",
       "      <td>0.166667</td>\n",
       "      <td>3</td>\n",
       "      <td>0</td>\n",
       "      <td>0</td>\n",
       "      <td>1</td>\n",
       "    </tr>\n",
       "    <tr>\n",
       "      <th>62209</th>\n",
       "      <td>1957 european economic community established l...</td>\n",
       "      <td>123</td>\n",
       "      <td>123</td>\n",
       "      <td>0.991935</td>\n",
       "      <td>5</td>\n",
       "      <td>3</td>\n",
       "      <td>6</td>\n",
       "      <td>0</td>\n",
       "      <td>0.187500</td>\n",
       "      <td>0.117647</td>\n",
       "      <td>9.281591</td>\n",
       "      <td>0.939800</td>\n",
       "      <td>2.782042</td>\n",
       "      <td>0.062500</td>\n",
       "      <td>4</td>\n",
       "      <td>0</td>\n",
       "      <td>0</td>\n",
       "      <td>1</td>\n",
       "    </tr>\n",
       "    <tr>\n",
       "      <th>58396</th>\n",
       "      <td>1957 mitropoulos leonard bernstein served toge...</td>\n",
       "      <td>221</td>\n",
       "      <td>221</td>\n",
       "      <td>0.995495</td>\n",
       "      <td>10</td>\n",
       "      <td>4</td>\n",
       "      <td>3</td>\n",
       "      <td>1</td>\n",
       "      <td>0.666667</td>\n",
       "      <td>0.354839</td>\n",
       "      <td>6.743027</td>\n",
       "      <td>0.965192</td>\n",
       "      <td>2.653005</td>\n",
       "      <td>0.033333</td>\n",
       "      <td>4</td>\n",
       "      <td>0</td>\n",
       "      <td>0</td>\n",
       "      <td>1</td>\n",
       "    </tr>\n",
       "    <tr>\n",
       "      <th>39355</th>\n",
       "      <td>1972 iceland unilaterally declared exclusive e...</td>\n",
       "      <td>153</td>\n",
       "      <td>153</td>\n",
       "      <td>0.993506</td>\n",
       "      <td>4</td>\n",
       "      <td>5</td>\n",
       "      <td>3</td>\n",
       "      <td>1</td>\n",
       "      <td>0.250000</td>\n",
       "      <td>0.238095</td>\n",
       "      <td>7.845309</td>\n",
       "      <td>0.980736</td>\n",
       "      <td>2.650753</td>\n",
       "      <td>0.050000</td>\n",
       "      <td>0</td>\n",
       "      <td>0</td>\n",
       "      <td>0</td>\n",
       "      <td>1</td>\n",
       "    </tr>\n",
       "    <tr>\n",
       "      <th>56980</th>\n",
       "      <td>1975 ndash indira gandhi establishes emergency...</td>\n",
       "      <td>63</td>\n",
       "      <td>63</td>\n",
       "      <td>0.984375</td>\n",
       "      <td>5</td>\n",
       "      <td>1</td>\n",
       "      <td>1</td>\n",
       "      <td>0</td>\n",
       "      <td>0.222222</td>\n",
       "      <td>0.100000</td>\n",
       "      <td>8.531970</td>\n",
       "      <td>0.946489</td>\n",
       "      <td>2.910845</td>\n",
       "      <td>0.111111</td>\n",
       "      <td>0</td>\n",
       "      <td>0</td>\n",
       "      <td>1</td>\n",
       "      <td>0</td>\n",
       "    </tr>\n",
       "    <tr>\n",
       "      <th>49901</th>\n",
       "      <td>1983 named mythological metis titaness first w...</td>\n",
       "      <td>133</td>\n",
       "      <td>133</td>\n",
       "      <td>0.992537</td>\n",
       "      <td>7</td>\n",
       "      <td>4</td>\n",
       "      <td>3</td>\n",
       "      <td>0</td>\n",
       "      <td>0.480000</td>\n",
       "      <td>0.384615</td>\n",
       "      <td>7.206618</td>\n",
       "      <td>0.961472</td>\n",
       "      <td>2.546357</td>\n",
       "      <td>0.040000</td>\n",
       "      <td>6</td>\n",
       "      <td>0</td>\n",
       "      <td>0</td>\n",
       "      <td>1</td>\n",
       "    </tr>\n",
       "  </tbody>\n",
       "</table>\n",
       "</div>"
      ],
      "text/plain": [
       "                                                    text  char_count  \\\n",
       "58001                                                              0   \n",
       "26169                                                              0   \n",
       "19411                                                              0   \n",
       "29407                                                              0   \n",
       "37433                                                              0   \n",
       "14295                                                              0   \n",
       "10850                                                              0   \n",
       "52551                                                              0   \n",
       "22075                                                              0   \n",
       "46353  10243 kg neptune mass puts planet earth larges...         156   \n",
       "29784                              113115 titsingh isaac          24   \n",
       "42343  1194 inches303 3 mm fell miller became wettest...         159   \n",
       "33825  1891 new immigration depot opened ellis island...          66   \n",
       "35708  1913 chadwick went worked hans geiger technica...          88   \n",
       "18585  1925 sammy drechsel journalist film director c...          81   \n",
       "62209  1957 european economic community established l...         123   \n",
       "58396  1957 mitropoulos leonard bernstein served toge...         221   \n",
       "39355  1972 iceland unilaterally declared exclusive e...         153   \n",
       "56980  1975 ndash indira gandhi establishes emergency...          63   \n",
       "49901  1983 named mythological metis titaness first w...         133   \n",
       "\n",
       "       word_count  word_density  noun_count  verb_count  adj_count  adv_count  \\\n",
       "58001           0      0.000000           0           0          0          0   \n",
       "26169           0      0.000000           0           0          0          0   \n",
       "19411           0      0.000000           0           0          0          0   \n",
       "29407           0      0.000000           0           0          0          0   \n",
       "37433           0      0.000000           0           0          0          0   \n",
       "14295           0      0.000000           0           0          0          0   \n",
       "10850           0      0.000000           0           0          0          0   \n",
       "52551           0      0.000000           0           0          0          0   \n",
       "22075           0      0.000000           0           0          0          0   \n",
       "46353         156      0.993631          11           2          4          1   \n",
       "29784          24      0.960000           2           0          0          0   \n",
       "42343         159      0.993750           8           3          3          0   \n",
       "33825          66      0.985075           4           3          2          0   \n",
       "35708          88      0.988764           4           3          1          0   \n",
       "18585          81      0.987805           6           1          2          0   \n",
       "62209         123      0.991935           5           3          6          0   \n",
       "58396         221      0.995495          10           4          3          1   \n",
       "39355         153      0.993506           4           5          3          1   \n",
       "56980          63      0.984375           5           1          1          0   \n",
       "49901         133      0.992537           7           4          3          0   \n",
       "\n",
       "       simp_word_percent  stop_word_percent        age  percent_know  \\\n",
       "58001          -1.000000           0.000000  10.361546      0.903680   \n",
       "26169          -1.000000           0.000000  10.361546      0.903680   \n",
       "19411          -1.000000           0.000000  10.361546      0.903680   \n",
       "29407          -1.000000           0.000000  10.361546      0.903680   \n",
       "37433          -1.000000           0.000000  10.361546      0.903680   \n",
       "14295          -1.000000           0.000000  10.361546      0.903680   \n",
       "10850          -1.000000           0.000000  10.361546      0.903680   \n",
       "52551          -1.000000           0.000000  10.361546      0.903680   \n",
       "22075          -1.000000           0.000000  10.361546      0.903680   \n",
       "46353           0.500000           0.344828   7.137640      0.965469   \n",
       "29784           0.000000           0.000000  10.361546      0.903680   \n",
       "42343           0.444444           0.321429   6.739660      0.971325   \n",
       "33825           0.416667           0.230769   7.223720      0.975920   \n",
       "35708           0.466667           0.375000   7.168515      0.961227   \n",
       "18585           0.250000           0.076923   8.932568      0.939647   \n",
       "62209           0.187500           0.117647   9.281591      0.939800   \n",
       "58396           0.666667           0.354839   6.743027      0.965192   \n",
       "39355           0.250000           0.238095   7.845309      0.980736   \n",
       "56980           0.222222           0.100000   8.531970      0.946489   \n",
       "49901           0.480000           0.384615   7.206618      0.961472   \n",
       "\n",
       "       concreteness       num  top100  least1000  label  y_hat  \n",
       "58001      3.036267  0.000000       0          0      1      0  \n",
       "26169      3.036267  0.000000       0          0      1      0  \n",
       "19411      3.036267  0.000000       0          0      1      0  \n",
       "29407      3.036267  0.000000       0          0      1      0  \n",
       "37433      3.036267  0.000000       0          0      1      0  \n",
       "14295      3.036267  0.000000       0          0      1      0  \n",
       "10850      3.036267  0.000000       0          0      1      0  \n",
       "52551      3.036267  0.000000       0          0      1      0  \n",
       "22075      3.036267  0.000000       0          0      1      0  \n",
       "46353      2.926300  0.035714       1          0      0      1  \n",
       "29784      3.036267  0.333333       0          0      1      0  \n",
       "42343      2.704820  0.111111       2          0      1      0  \n",
       "33825      3.016256  0.083333       3          0      0      1  \n",
       "35708      2.571422  0.066667       1          0      1      0  \n",
       "18585      3.216678  0.166667       3          0      0      1  \n",
       "62209      2.782042  0.062500       4          0      0      1  \n",
       "58396      2.653005  0.033333       4          0      0      1  \n",
       "39355      2.650753  0.050000       0          0      0      1  \n",
       "56980      2.910845  0.111111       0          0      1      0  \n",
       "49901      2.546357  0.040000       6          0      0      1  "
      ]
     },
     "execution_count": 78,
     "metadata": {},
     "output_type": "execute_result"
    }
   ],
   "source": [
    "fauilre[fauilre.duplicated()].sort_values(by=['text']).head(20)"
   ]
  },
  {
   "cell_type": "code",
   "execution_count": null,
   "metadata": {},
   "outputs": [],
   "source": []
  }
 ],
 "metadata": {
  "colab": {
   "collapsed_sections": [],
   "name": "SI670FinalProjects.ipynb",
   "provenance": []
  },
  "kernelspec": {
   "display_name": "Python 3 (ipykernel)",
   "language": "python",
   "name": "python3"
  },
  "language_info": {
   "codemirror_mode": {
    "name": "ipython",
    "version": 3
   },
   "file_extension": ".py",
   "mimetype": "text/x-python",
   "name": "python",
   "nbconvert_exporter": "python",
   "pygments_lexer": "ipython3",
   "version": "3.9.7"
  }
 },
 "nbformat": 4,
 "nbformat_minor": 1
}
